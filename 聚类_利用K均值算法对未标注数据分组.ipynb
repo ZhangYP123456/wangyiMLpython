{
 "cells": [
  {
   "cell_type": "markdown",
   "metadata": {},
   "source": [
    "聚类和分类的不同\n",
    "\n",
    "聚类分析\n",
    "\n",
    "簇识别"
   ]
  },
  {
   "cell_type": "markdown",
   "metadata": {},
   "source": [
    "## K均值聚类算法\n",
    "\n",
    "优点：容易实现\n",
    "\n",
    "缺点：可能收敛到局部最小值，在大规模数据集上收敛较慢\n",
    "\n",
    "适用数据类型：数值型数据"
   ]
  },
  {
   "cell_type": "code",
   "execution_count": 40,
   "metadata": {},
   "outputs": [],
   "source": [
    "import numpy as np \n",
    "import matplotlib.pyplot as plt \n",
    "def loadData(fileName):  # 将文本处理成所需要的数据样式\n",
    "    dataMat = []\n",
    "    file = open(fileName)\n",
    "    for line in file.readlines():\n",
    "        curLine = line.strip().split('\\t')\n",
    "        #print(curLine)\n",
    "        floatLine = list(map(float, curLine))\n",
    "        #print(floatLine)\n",
    "        dataMat.append(floatLine)\n",
    "    return dataMat"
   ]
  },
  {
   "cell_type": "code",
   "execution_count": 41,
   "metadata": {},
   "outputs": [],
   "source": [
    "def distance(A, B):      # 计算出聚类中心和各个点的距离\n",
    "    return np.sqrt(np.sum(np.power(A-B, 2)))"
   ]
  },
  {
   "cell_type": "code",
   "execution_count": 42,
   "metadata": {},
   "outputs": [
    {
     "data": {
      "text/plain": [
       "2.23606797749979"
      ]
     },
     "execution_count": 42,
     "metadata": {},
     "output_type": "execute_result"
    }
   ],
   "source": [
    "x = np.array([2,3])\n",
    "y = np.array([1,1])\n",
    "distance(x,y)"
   ]
  },
  {
   "cell_type": "code",
   "execution_count": 43,
   "metadata": {},
   "outputs": [],
   "source": [
    "def randcent(dataSet, k):   ## 找到簇的质心\n",
    "    n = dataSet.shape[1]\n",
    "    centroids = np.mat(np.zeros((k, n)))\n",
    "    for j in range(n):\n",
    "        minJ = np.min(dataSet[:,j])\n",
    "        rangeJ = float(np.max(dataSet[:,j]) - minJ)\n",
    "        centroids[:,j] = minJ + rangeJ * np.random.rand(k, 1)\n",
    "    return centroids\n",
    "    "
   ]
  },
  {
   "cell_type": "code",
   "execution_count": 44,
   "metadata": {},
   "outputs": [],
   "source": [
    "dataMat = np.mat(loadData(\"F:/ziliao/machinelearninginaction-master/Ch10/testSet.txt\"))"
   ]
  },
  {
   "cell_type": "code",
   "execution_count": 45,
   "metadata": {},
   "outputs": [
    {
     "data": {
      "text/plain": [
       "matrix([[ 1.658985,  4.285136],\n",
       "        [-3.453687,  3.424321],\n",
       "        [ 4.838138, -1.151539],\n",
       "        [-5.379713, -3.362104],\n",
       "        [ 0.972564,  2.924086]])"
      ]
     },
     "execution_count": 45,
     "metadata": {},
     "output_type": "execute_result"
    }
   ],
   "source": [
    "dataMat[:5,:]"
   ]
  },
  {
   "cell_type": "code",
   "execution_count": 46,
   "metadata": {},
   "outputs": [
    {
     "data": {
      "text/plain": [
       "-5.379713"
      ]
     },
     "execution_count": 46,
     "metadata": {},
     "output_type": "execute_result"
    }
   ],
   "source": [
    "np.min(dataMat[:,0])"
   ]
  },
  {
   "cell_type": "code",
   "execution_count": 47,
   "metadata": {},
   "outputs": [
    {
     "data": {
      "text/plain": [
       "-4.232586"
      ]
     },
     "execution_count": 47,
     "metadata": {},
     "output_type": "execute_result"
    }
   ],
   "source": [
    "np.min(dataMat[:,1])"
   ]
  },
  {
   "cell_type": "code",
   "execution_count": 48,
   "metadata": {},
   "outputs": [
    {
     "data": {
      "text/plain": [
       "4.838138"
      ]
     },
     "execution_count": 48,
     "metadata": {},
     "output_type": "execute_result"
    }
   ],
   "source": [
    "np.max(dataMat[:,0])"
   ]
  },
  {
   "cell_type": "code",
   "execution_count": 49,
   "metadata": {},
   "outputs": [
    {
     "data": {
      "text/plain": [
       "5.1904"
      ]
     },
     "execution_count": 49,
     "metadata": {},
     "output_type": "execute_result"
    }
   ],
   "source": [
    "np.max(dataMat[:,1])"
   ]
  },
  {
   "cell_type": "code",
   "execution_count": 50,
   "metadata": {},
   "outputs": [
    {
     "data": {
      "text/plain": [
       "matrix([[-2.35896642, -2.34440843],\n",
       "        [-1.4628287 ,  2.86274498],\n",
       "        [-1.95885889, -0.76994933]])"
      ]
     },
     "execution_count": 50,
     "metadata": {},
     "output_type": "execute_result"
    }
   ],
   "source": [
    "randcent(dataMat, 3)"
   ]
  },
  {
   "cell_type": "code",
   "execution_count": 51,
   "metadata": {},
   "outputs": [
    {
     "data": {
      "text/plain": [
       "5.184632816681332"
      ]
     },
     "execution_count": 51,
     "metadata": {},
     "output_type": "execute_result"
    }
   ],
   "source": [
    "distance(dataMat[0], dataMat[1])"
   ]
  },
  {
   "cell_type": "code",
   "execution_count": 52,
   "metadata": {},
   "outputs": [
    {
     "data": {
      "text/plain": [
       "5.184632816681332"
      ]
     },
     "execution_count": 52,
     "metadata": {},
     "output_type": "execute_result"
    }
   ],
   "source": [
    "distance(dataMat[0], dataMat[1])"
   ]
  },
  {
   "cell_type": "code",
   "execution_count": 53,
   "metadata": {},
   "outputs": [],
   "source": [
    "def kMeans(dataSet, k, disMethod=distance, createCent=randcent):## K均值聚类算法\n",
    "    m = dataSet.shape[0]  ## 取出样本数\n",
    "    clusterAssment = np.mat(np.zeros((m,2))) ## 生成用来存储索引和距离平方值的矩阵\n",
    "    centroids = createCent(dataSet, k) ## 随机生成K个聚类中心\n",
    "    clusterChanged = True  ## 控制运行的开关\n",
    "    while clusterChanged:  ## 开关为true 则运行，否则收敛结束\n",
    "        clusterChanged = False  ## 循环开始先将开关关闭\n",
    "        for i in range(m):      \n",
    "            minDist = float('inf')  ## 初始化最小距离\n",
    "            #print(minDist)\n",
    "            minIndex = -1   ## 初始化最小索引\n",
    "            for j in range(k):  ## K个\n",
    "                distJ = disMethod(centroids[j,:],dataSet[i,:])  ## 计算K个聚类中心和各个样本之间的距离\n",
    "                #print(distJ)\n",
    "                if distJ < minDist:\n",
    "                    minDist = distJ\n",
    "                    minIndex = j\n",
    "            if clusterAssment[i,0] != minIndex:\n",
    "                clusterChanged = True\n",
    "            clusterAssment[i,:] = minIndex, minDist**2\n",
    "        print(centroids)\n",
    "        for cent in range(k):\n",
    "            pinCluster = dataSet[np.nonzero(clusterAssment[:,0].A==cent)[0]] ## 返回数组a中非零（true）元素的索引值数组\n",
    "            centroids[cent,:] = np.mean(pinCluster, axis = 0)\n",
    "    return centroids,clusterAssment"
   ]
  },
  {
   "cell_type": "code",
   "execution_count": 89,
   "metadata": {},
   "outputs": [
    {
     "name": "stdout",
     "output_type": "stream",
     "text": [
      "[[-5.0179676   0.75520728]\n",
      " [-1.69932958  4.64682663]\n",
      " [ 4.29820078 -0.91335871]\n",
      " [ 3.59161795  1.22120589]]\n",
      "[[-3.54251791 -2.066412  ]\n",
      " [-1.74777617  3.20930561]\n",
      " [ 2.7481024  -2.90572575]\n",
      " [ 2.61509358  2.74834663]]\n",
      "[[-3.53973889 -2.89384326]\n",
      " [-2.46154315  2.78737555]\n",
      " [ 2.65077367 -2.79019029]\n",
      " [ 2.6265299   3.10868015]]\n"
     ]
    }
   ],
   "source": [
    "dataMat2 = np.mat(loadData(\"F:/ziliao/machinelearninginaction-master/Ch10/testSet.txt\"))\n",
    "dataArray = np.array(loadData(\"F:/ziliao/machinelearninginaction-master/Ch10/testSet.txt\"))\n",
    "myCentroids,myclusterAssment = kMeans(dataMat2,4)"
   ]
  },
  {
   "cell_type": "code",
   "execution_count": 56,
   "metadata": {},
   "outputs": [],
   "source": [
    "myCentroidsArray = np.asarray(myCentroids)"
   ]
  },
  {
   "cell_type": "code",
   "execution_count": 57,
   "metadata": {},
   "outputs": [
    {
     "data": {
      "image/png": "[encoded data removed]",
      "text/plain": [
       "<matplotlib.figure.Figure at 0xb85ec18>"
      ]
     },
     "metadata": {},
     "output_type": "display_data"
    }
   ],
   "source": [
    "##  散点图\n",
    "plt.scatter(dataArray[:,0],dataArray[:,1],c='green')\n",
    "plt.scatter(myCentroidsArray[:,0],myCentroidsArray[:,1],c='red')\n",
    "plt.show()"
   ]
  },
  {
   "cell_type": "code",
   "execution_count": 58,
   "metadata": {},
   "outputs": [],
   "source": [
    "def showCluster(dataSet, k, centroids, clusterAssment):\n",
    "    numSamples, dim = dataSet.shape\n",
    "    if dim != 2:\n",
    "        print(\"Sorry! I can not draw because the dimension of your data is not 2!\")\n",
    "        return 1\n",
    "    mark = ['or', 'ob', 'og', 'ok', '^r', '+r', 'sr', 'dr', '<r', 'pr'] \n",
    "    mark2 = ['Dr','Db','Dg','Dk','^b','+b','sb','db','<b','pb']\n",
    "    if k > len(mark):\n",
    "        print(\"Sorry! Your k is too large! please contact Zouxy\")\n",
    "        return 1\n",
    "    # draw all samples \n",
    "    for i in range(numSamples):\n",
    "        markIndex = int(clusterAssment[i, 0])\n",
    "        plt.plot(dataSet[i,0], dataSet[i,1], mark[markIndex])\n",
    "   \n",
    "    # 画出聚类中心\n",
    "    for i in range(k):\n",
    "        plt.plot(centroids[i,0],centroids[i,1],mark2[i],markersize=15)\n",
    "    plt.show()"
   ]
  },
  {
   "cell_type": "code",
   "execution_count": 59,
   "metadata": {},
   "outputs": [
    {
     "data": {
      "image/png": "[encoded data removed]",
      "text/plain": [
       "<matplotlib.figure.Figure at 0xbaab3c8>"
      ]
     },
     "metadata": {},
     "output_type": "display_data"
    }
   ],
   "source": [
    "showCluster(dataArray,4,myCentroidsArray,myclusterAssment)"
   ]
  },
  {
   "cell_type": "markdown",
   "metadata": {},
   "source": [
    "# 使用后处理来提高聚类处理"
   ]
  },
  {
   "cell_type": "markdown",
   "metadata": {},
   "source": [
    "簇的数目K是一个用户预先定义的参数,如何知道K的选择是否正确？\n",
    "\n",
    "K均值算法收敛但聚类效果较差的原因？ 收敛到了局部最小值\n",
    "\n",
    "SSE? 越小表示数据点越接近聚类中心。\n"
   ]
  },
  {
   "cell_type": "markdown",
   "metadata": {},
   "source": [
    "# 二分K均值聚类算法\n",
    "\n",
    "为克服K-均值算法收敛与局部最小值的问题"
   ]
  },
  {
   "cell_type": "code",
   "execution_count": 60,
   "metadata": {},
   "outputs": [
    {
     "data": {
      "text/plain": [
       "[-0.10361321250000004, 0.05430119999999998]"
      ]
     },
     "execution_count": 60,
     "metadata": {},
     "output_type": "execute_result"
    }
   ],
   "source": [
    "np.mean(dataMat2, axis=0).tolist()[0]"
   ]
  },
  {
   "cell_type": "code",
   "execution_count": 61,
   "metadata": {},
   "outputs": [
    {
     "name": "stdout",
     "output_type": "stream",
     "text": [
      "<class 'numpy.matrixlib.defmatrix.matrix'>\n",
      "<class 'numpy.ndarray'>\n",
      "[[1 2 3]\n",
      " [4 5 6]]\n"
     ]
    }
   ],
   "source": [
    "a=np.mat([[1,2,3],[4,5,6]])\n",
    "b=a.A\n",
    "print(type(a))\n",
    "print(type(b))\n",
    "print(b)"
   ]
  },
  {
   "cell_type": "code",
   "execution_count": 93,
   "metadata": {},
   "outputs": [],
   "source": [
    "def biKmeans(dataSet, k, disMethod=distance):\n",
    "    m = dataSet.shape[0]\n",
    "    clusterAssment = np.mat(np.zeros((m,2)))\n",
    "    # print(clusterAssment)\n",
    "    centroid0 = np.mean(dataSet, axis=0).tolist()[0] ## tolist矩阵到列表\n",
    "    centList = [centroid0]   # 创建初始簇\n",
    "    # print(centroid0)\n",
    "    for j in range(m):\n",
    "        clusterAssment[j,1] = disMethod(np.mat(centroid0), dataSet[j,:])**2\n",
    "    while (len(centList)<k): ## 当簇的个数小于K\n",
    "        lowestSSE = float('inf')  ## 初始最小的SSE\n",
    "        for i in range(len(centList)):\n",
    "            # 提取编号为i的数据形成一个新的数据集\n",
    "            pInCurrCluster = dataSet[np.nonzero(clusterAssment[:,0].A==i)[0],:]\n",
    "            # print(\"np.nonzero(clusterAssment[:,0]:\",np.nonzero(clusterAssment[:,0].A==i)[0])\n",
    "            # print(\"pInCurrCluster:\",pInCurrCluster)\n",
    "            # mat.A 将矩阵转化为array数组的形式； 取出簇索引与当前簇类编号相同的数据                \n",
    "            centroidMat,splitClustAss = kMeans(pInCurrCluster,2,disMethod)\n",
    "            # 尝试去分每一簇 centroidMat（质心） splitClustAss（簇分配结果）\n",
    "            sseSplit = np.sum(splitClustAss[:,1]) ### 从分配结果中求出对应的SSE之和\n",
    "            sseNotSplit =np.sum(clusterAssment[np.nonzero(clusterAssment[:,0].A!=i)[0],1])\n",
    "            # 求出不是当前分类簇的SSE之和\n",
    "            #print(\"haha:\",clusterAssment[np.nonzero(clusterAssment[:,0].A!=i)[0],1])\n",
    "            print(\"ssesplt和seNotSplit\",sseSplit,sseNotSplit)\n",
    "            if (sseSplit + sseNotSplit)<lowestSSE:\n",
    "                bestCentToSplit = i               \n",
    "                bestNewCents = centroidMat          # 用新的聚类中心更新最优聚类中心\n",
    "                bestClustAss = splitClustAss.copy()  \n",
    "                lowestSSE = sseSplit + sseNotSplit\n",
    "        \"\"\"更新簇的分配结果\"\"\"\n",
    "        bestClustAss[np.nonzero(bestClustAss[:,0].A == 1)[0], 0] = len(centList) \n",
    "        # print(len(centList))\n",
    "        bestClustAss[np.nonzero(bestClustAss[:,0].A == 0)[0], 0] = bestCentToSplit\n",
    "        \"\"\"输出最好分类\"\"\"\n",
    "        print(\"bestCentToSplit:\",bestCentToSplit)\n",
    "        print(\"len(bestClustAss):\",len(bestClustAss))\n",
    "        \n",
    "        showCluster(dataSet,len(centList),np.mat(centList),clusterAssment)\n",
    "        centList[bestCentToSplit] = bestNewCents[0,:].tolist()[0]\n",
    "        \n",
    "        centList.append(bestNewCents[1,:].tolist()[0])\n",
    "        clusterAssment[np.nonzero(clusterAssment[:,0].A == bestCentToSplit)[0],:]=bestClustAss\n",
    "        \n",
    "    showCluster(dataSet,len(centList),np.mat(centList),clusterAssment)\n",
    "    return np.mat(centList),clusterAssment"
   ]
  },
  {
   "cell_type": "code",
   "execution_count": 94,
   "metadata": {},
   "outputs": [],
   "source": [
    "dataMat3 = np.mat(loadData(\"F:/ziliao/machinelearninginaction-master/Ch10/testSet.txt\"))"
   ]
  },
  {
   "cell_type": "code",
   "execution_count": 95,
   "metadata": {},
   "outputs": [
    {
     "name": "stdout",
     "output_type": "stream",
     "text": [
      "[[ 2.1187139   4.7857297 ]\n",
      " [-2.67351834  4.65703747]]\n",
      "[[ 2.71473038  0.18858278]\n",
      " [-2.9219568  -0.07998038]]\n",
      "ssesplt和seNotSplit 828.6926539968681 0.0\n",
      "bestCentToSplit: 0\n",
      "len(bestClustAss): 80\n"
     ]
    },
    {
     "data": {
      "image/png": "[encoded data removed]",
      "text/plain": [
       "<matplotlib.figure.Figure at 0x8ebcfd0>"
      ]
     },
     "metadata": {},
     "output_type": "display_data"
    },
    {
     "name": "stdout",
     "output_type": "stream",
     "text": [
      "[[3.75748592 4.94063759]\n",
      " [2.64019908 0.45639861]]\n",
      "[[ 2.67424467  3.74089642]\n",
      " [ 2.73208139 -1.33383736]]\n",
      "[[ 2.54391447  3.21299611]\n",
      " [ 2.8692781  -2.54779119]]\n",
      "[[ 2.6265299   3.10868015]\n",
      " [ 2.80293085 -2.7315146 ]]\n",
      "ssesplt和seNotSplit 87.30471264989171 399.99802121609173\n",
      "[[-2.43573037  3.87530003]\n",
      " [-2.13645765  2.14862906]]\n",
      "[[-2.619888    3.43727037]\n",
      " [-2.997474   -0.95929306]]\n",
      "[[-2.45009747  2.89275747]\n",
      " [-3.34887714 -2.76960033]]\n",
      "[[-2.46154315  2.78737555]\n",
      " [-3.38237045 -2.9473363 ]]\n",
      "ssesplt和seNotSplit 62.64959202653465 428.6946327807764\n",
      "bestCentToSplit: 0\n",
      "len(bestClustAss): 40\n"
     ]
    },
    {
     "data": {
      "image/png": "[encoded data removed]",
      "text/plain": [
       "<matplotlib.figure.Figure at 0xb37a860>"
      ]
     },
     "metadata": {},
     "output_type": "display_data"
    },
    {
     "name": "stdout",
     "output_type": "stream",
     "text": [
      "[[1.9455188  1.3633801 ]\n",
      " [2.66629972 2.38685701]]\n",
      "[[2.668759   1.594842  ]\n",
      " [2.62430732 3.18835584]]\n",
      "[[3.0475435  1.56481175]\n",
      " [2.5212765  3.49464725]]\n",
      "[[3.0168788  1.749675  ]\n",
      " [2.4964136  3.56168187]]\n",
      "[[3.262091   2.073162  ]\n",
      " [2.28430469 3.66626685]]\n",
      "ssesplt和seNotSplit 20.42056248813446 450.98424790755917\n",
      "[[-4.91116465  0.57203106]\n",
      " [-3.82253825  2.90977857]]\n",
      "[[-3.34887714 -2.76960033]\n",
      " [-2.45009747  2.89275747]]\n",
      "[[-3.38237045 -2.9473363 ]\n",
      " [-2.46154315  2.78737555]]\n",
      "ssesplt和seNotSplit 62.64959202653465 87.30471264989171\n",
      "[[ 3.58061029 -1.99240361]\n",
      " [ 1.2993887  -0.55315714]]\n",
      "[[ 3.05021133 -2.82492178]\n",
      " [ 0.5774065  -1.89085   ]]\n",
      "[[ 3.17437012 -2.75441347]\n",
      " [ 0.69810833 -2.60175433]]\n",
      "[[ 3.25624481 -2.728045  ]\n",
      " [ 0.989675   -2.745393  ]]\n",
      "ssesplt和seNotSplit 34.545779753738444 436.3165071745162\n",
      "bestCentToSplit: 1\n",
      "len(bestClustAss): 40\n"
     ]
    },
    {
     "data": {
      "image/png": "[encoded data removed]",
      "text/plain": [
       "<matplotlib.figure.Figure at 0xb33a7b8>"
      ]
     },
     "metadata": {},
     "output_type": "display_data"
    },
    {
     "data": {
      "image/png": "[encoded data removed]",
      "text/plain": [
       "<matplotlib.figure.Figure at 0xbbca5f8>"
      ]
     },
     "metadata": {},
     "output_type": "display_data"
    }
   ],
   "source": [
    "mycentList,myNewAssment = biKmeans(dataMat3,4)"
   ]
  },
  {
   "cell_type": "code",
   "execution_count": 85,
   "metadata": {},
   "outputs": [
    {
     "data": {
      "text/plain": [
       "matrix([[2.        , 2.20821483],\n",
       "        [3.        , 1.39004893],\n",
       "        [1.        , 7.70336226],\n",
       "        [0.        , 3.39621475],\n",
       "        [2.        , 2.19939554],\n",
       "        [3.        , 2.80101213],\n",
       "        [1.        , 4.85787621],\n",
       "        [0.        , 1.21637812],\n",
       "        [2.        , 2.10202436],\n",
       "        [3.        , 0.64596748]])"
      ]
     },
     "execution_count": 85,
     "metadata": {},
     "output_type": "execute_result"
    }
   ],
   "source": [
    "myNewAssment[:10]"
   ]
  },
  {
   "cell_type": "code",
   "execution_count": 86,
   "metadata": {},
   "outputs": [
    {
     "data": {
      "text/plain": [
       "matrix([[-3.61853111, -2.81946867],\n",
       "        [ 2.59258145, -2.78274655],\n",
       "        [ 2.4519287 ,  3.02837225],\n",
       "        [-2.46154315,  2.78737555]])"
      ]
     },
     "execution_count": 86,
     "metadata": {},
     "output_type": "execute_result"
    }
   ],
   "source": [
    "biDataArray = np.asarray(dataMat3)\n",
    "mybiCentroidsArray = np.asarray(mycentList)\n",
    "mycentList"
   ]
  },
  {
   "cell_type": "code",
   "execution_count": 88,
   "metadata": {},
   "outputs": [
    {
     "data": {
      "image/png": "[encoded data removed]",
      "text/plain": [
       "<matplotlib.figure.Figure at 0x8eda828>"
      ]
     },
     "metadata": {},
     "output_type": "display_data"
    }
   ],
   "source": [
    "showCluster(biDataArray,4,mybiCentroidsArray,myNewAssment)"
   ]
  },
  {
   "cell_type": "markdown",
   "metadata": {},
   "source": [
    "# 使用scikit-learn中的K-means方法"
   ]
  },
  {
   "cell_type": "code",
   "execution_count": 68,
   "metadata": {},
   "outputs": [],
   "source": [
    "from  sklearn.cluster import k_means"
   ]
  },
  {
   "cell_type": "code",
   "execution_count": 69,
   "metadata": {},
   "outputs": [
    {
     "name": "stdout",
     "output_type": "stream",
     "text": [
      "Help on function k_means in module sklearn.cluster.k_means_:\n",
      "\n",
      "k_means(X, n_clusters, init='k-means++', precompute_distances='auto', n_init=10, max_iter=300, verbose=False, tol=0.0001, random_state=None, copy_x=True, n_jobs=1, algorithm='auto', return_n_iter=False)\n",
      "    K-means clustering algorithm.\n",
      "    \n",
      "    Read more in the :ref:`User Guide <k_means>`.\n",
      "    \n",
      "    Parameters\n",
      "    ----------\n",
      "    X : array-like or sparse matrix, shape (n_samples, n_features)\n",
      "        The observations to cluster.\n",
      "    \n",
      "    n_clusters : int\n",
      "        The number of clusters to form as well as the number of\n",
      "        centroids to generate.\n",
      "    \n",
      "    init : {'k-means++', 'random', or ndarray, or a callable}, optional\n",
      "        Method for initialization, default to 'k-means++':\n",
      "    \n",
      "        'k-means++' : selects initial cluster centers for k-mean\n",
      "        clustering in a smart way to speed up convergence. See section\n",
      "        Notes in k_init for more details.\n",
      "    \n",
      "        'random': generate k centroids from a Gaussian with mean and\n",
      "        variance estimated from the data.\n",
      "    \n",
      "        If an ndarray is passed, it should be of shape (n_clusters, n_features)\n",
      "        and gives the initial centers.\n",
      "    \n",
      "        If a callable is passed, it should take arguments X, k and\n",
      "        and a random state and return an initialization.\n",
      "    \n",
      "    precompute_distances : {'auto', True, False}\n",
      "        Precompute distances (faster but takes more memory).\n",
      "    \n",
      "        'auto' : do not precompute distances if n_samples * n_clusters > 12\n",
      "        million. This corresponds to about 100MB overhead per job using\n",
      "        double precision.\n",
      "    \n",
      "        True : always precompute distances\n",
      "    \n",
      "        False : never precompute distances\n",
      "    \n",
      "    n_init : int, optional, default: 10\n",
      "        Number of time the k-means algorithm will be run with different\n",
      "        centroid seeds. The final results will be the best output of\n",
      "        n_init consecutive runs in terms of inertia.\n",
      "    \n",
      "    max_iter : int, optional, default 300\n",
      "        Maximum number of iterations of the k-means algorithm to run.\n",
      "    \n",
      "    verbose : boolean, optional\n",
      "        Verbosity mode.\n",
      "    \n",
      "    tol : float, optional\n",
      "        The relative increment in the results before declaring convergence.\n",
      "    \n",
      "    random_state : int, RandomState instance or None, optional, default: None\n",
      "        If int, random_state is the seed used by the random number generator;\n",
      "        If RandomState instance, random_state is the random number generator;\n",
      "        If None, the random number generator is the RandomState instance used\n",
      "        by `np.random`.\n",
      "    \n",
      "    copy_x : boolean, optional\n",
      "        When pre-computing distances it is more numerically accurate to center\n",
      "        the data first.  If copy_x is True, then the original data is not\n",
      "        modified.  If False, the original data is modified, and put back before\n",
      "        the function returns, but small numerical differences may be introduced\n",
      "        by subtracting and then adding the data mean.\n",
      "    \n",
      "    n_jobs : int\n",
      "        The number of jobs to use for the computation. This works by computing\n",
      "        each of the n_init runs in parallel.\n",
      "    \n",
      "        If -1 all CPUs are used. If 1 is given, no parallel computing code is\n",
      "        used at all, which is useful for debugging. For n_jobs below -1,\n",
      "        (n_cpus + 1 + n_jobs) are used. Thus for n_jobs = -2, all CPUs but one\n",
      "        are used.\n",
      "    \n",
      "    algorithm : \"auto\", \"full\" or \"elkan\", default=\"auto\"\n",
      "        K-means algorithm to use. The classical EM-style algorithm is \"full\".\n",
      "        The \"elkan\" variation is more efficient by using the triangle\n",
      "        inequality, but currently doesn't support sparse data. \"auto\" chooses\n",
      "        \"elkan\" for dense data and \"full\" for sparse data.\n",
      "    \n",
      "    return_n_iter : bool, optional\n",
      "        Whether or not to return the number of iterations.\n",
      "    \n",
      "    Returns\n",
      "    -------\n",
      "    centroid : float ndarray with shape (k, n_features)\n",
      "        Centroids found at the last iteration of k-means.\n",
      "    \n",
      "    label : integer ndarray with shape (n_samples,)\n",
      "        label[i] is the code or index of the centroid the\n",
      "        i'th observation is closest to.\n",
      "    \n",
      "    inertia : float\n",
      "        The final value of the inertia criterion (sum of squared distances to\n",
      "        the closest centroid for all observations in the training set).\n",
      "    \n",
      "    best_n_iter : int\n",
      "        Number of iterations corresponding to the best results.\n",
      "        Returned only if `return_n_iter` is set to True.\n",
      "\n"
     ]
    }
   ],
   "source": [
    "help(k_means)"
   ]
  },
  {
   "cell_type": "code",
   "execution_count": 70,
   "metadata": {},
   "outputs": [
    {
     "name": "stdout",
     "output_type": "stream",
     "text": [
      "[[ 2.80293085 -2.7315146 ]\n",
      " [ 2.6265299   3.10868015]\n",
      " [-3.38237045 -2.9473363 ]\n",
      " [-2.46154315  2.78737555]]\n",
      "[1 3 0 2 1 3 0 2 1 3 0 2 1 3 0 2 1 3 0 2 1 3 0 2 1 3 0 2 1 3 0 2 1 3 0 2 1\n",
      " 3 0 2 1 3 0 2 1 3 0 2 1 3 0 2 1 3 0 2 1 3 0 2 1 3 0 2 1 3 0 2 1 3 0 2 1 3\n",
      " 0 2 1 3 0 2]\n",
      "149.95430467642635\n"
     ]
    }
   ],
   "source": [
    "mycent, mylabel, myinertia= k_means(dataMat2,4) ## myinertia SSE的最终值（训练集中所有观测值与最近质心的平方距离之和）。\n",
    "print(mycent)\n",
    "print(mylabel)\n",
    "print(myinertia)"
   ]
  },
  {
   "cell_type": "markdown",
   "metadata": {},
   "source": [
    "# 示例：对地图上的点进行聚类"
   ]
  },
  {
   "cell_type": "code",
   "execution_count": 71,
   "metadata": {},
   "outputs": [],
   "source": [
    "#Yahoo！PlaceFinder API\n",
    "#导入urllib\n",
    "import urllib\n",
    "#导入json模块\n",
    "import json\n",
    "\n",
    "#利用地名，城市获取位置经纬度函数\n",
    "def geoGrab(stAddress,city):\n",
    "    #获取经纬度网址\n",
    "    apiStem='http://where.yahooapis.com/geocode?'\n",
    "    #初始化一个字典，存储相关参数\n",
    "    params={}\n",
    "    #返回类型为json\n",
    "    params['flags']='J'\n",
    "    #参数appid\n",
    "    params['appid']='ppp68N8t'\n",
    "    #参数地址位置信息\n",
    "    params['location']=('%s %s'%(stAddress,city))\n",
    "    #利用urlencode函数将字典转为URL可以传递的字符串格式\n",
    "    url_params=urllib.parse.urlencode(params)\n",
    "    #组成完整的URL地址api\n",
    "    yahooApi=apiStem+url_params\n",
    "    #打印该URL地址\n",
    "    print('%s',yahooApi)\n",
    "    #打开URL，返回json格式的数据\n",
    "    c=urllib.parse.urlencode(yahooApi)\n",
    "    #返回json解析后的数据字典\n",
    "    return json.load(c.read())\n",
    "\n",
    "from time import sleep\n",
    "#具体文本数据批量地址经纬度获取函数\n",
    "def massPlaceFind(fileName):\n",
    "    #新建一个可写的文本文件，存储地址，城市，经纬度等信息\n",
    "    fw=open('places.txt','wb+')\n",
    "    #遍历文本的每一行\n",
    "    for line in open(fileName).readlines():\n",
    "        #去除首尾空格\n",
    "        line =line.strip()\n",
    "        #按tab键分隔开\n",
    "        lineArr=line.split('\\t')\n",
    "        #利用获取经纬度函数获取该地址经纬度\n",
    "        retDict=geoGrab(lineArr[1],lineArr[2])\n",
    "        #如果错误编码为0，表示没有错误，获取到相应经纬度\n",
    "        if retDict['ResultSet']['Error']==0:\n",
    "            #从字典中获取经度\n",
    "            lat=float(retDict['ResultSet']['Results'][0]['latitute'])\n",
    "            #维度\n",
    "            lng=float(retDict['ResultSet']['Results'][0]['longitute'])\n",
    "            #打印地名及对应的经纬度信息\n",
    "            print('%s\\t%f\\t%f'%(lineArr[0],lat,lng))\n",
    "            #将上面的信息存入新的文件中\n",
    "            fw.write('%s\\t%f\\t%f\\n'%(line,lat,lng))\n",
    "        #如果错误编码不为0，打印提示信息\n",
    "        else:print('error fetching')\n",
    "        #为防止频繁调用API，造成请求被封，使函数调用延迟一秒\n",
    "        sleep(1)\n",
    "    #文本写入关闭\n",
    "    fw.close()"
   ]
  },
  {
   "cell_type": "code",
   "execution_count": 72,
   "metadata": {},
   "outputs": [],
   "source": [
    "def distSLC(vecA, vecB):#Spherical Law of Cosines\n",
    "    a = np.sin(vecA[0,1]*np.pi/180) * np.sin(vecB[0,1]*np.pi/180)\n",
    "    b = np.cos(vecA[0,1]*np.pi/180) * np.cos(vecB[0,1]*np.pi/180) * np.cos(np.pi * (vecB[0,0]-vecA[0,0]) /180)\n",
    "    return np.arccos(a + b)*6371.0 #pi is imported with numpy\n",
    "\n",
    "import matplotlib\n",
    "import matplotlib.pyplot as plt\n",
    "def clusterClubs(numClust=5):\n",
    "    datList = []\n",
    "    for line in open('F:/ziliao/machinelearninginaction-master/Ch10/places.txt').readlines():\n",
    "        lineArr = line.split('\\t')\n",
    "        datList.append([float(lineArr[4]), float(lineArr[3])])\n",
    "    datMat = np.mat(datList)\n",
    "    myCentroids, clustAssing = biKmeans(datMat, numClust, disMethod=distSLC)\n",
    "    fig = plt.figure()\n",
    "    rect=[0.1,0.1,0.8,0.8]\n",
    "    scatterMarkers=['s', 'o', '^', '8', 'p', \\\n",
    "                    'd', 'v', 'h', '>', '<']\n",
    "    axprops = dict(xticks=[], yticks=[])\n",
    "    ax0=fig.add_axes(rect, label='ax0', **axprops)\n",
    "    imgP = plt.imread('F:/ziliao/machinelearninginaction-master/Ch10/Portland.png')\n",
    "    ax0.imshow(imgP)\n",
    "    ax1=fig.add_axes(rect, label='ax1', frameon=False)\n",
    "    for i in range(numClust):\n",
    "        ptsInCurrCluster = datMat[np.nonzero(clustAssing[:,0].A==i)[0],:]\n",
    "        markerStyle = scatterMarkers[i % len(scatterMarkers)]\n",
    "        ax1.scatter(ptsInCurrCluster[:,0].flatten().A[0], ptsInCurrCluster[:,1].flatten().A[0], marker=markerStyle, s=90)\n",
    "    ax1.scatter(myCentroids[:,0].flatten().A[0], myCentroids[:,1].flatten().A[0], marker='+', s=300)\n",
    "    plt.show()\n"
   ]
  },
  {
   "cell_type": "code",
   "execution_count": 73,
   "metadata": {},
   "outputs": [
    {
     "name": "stdout",
     "output_type": "stream",
     "text": [
      "[[-122.78844091   45.49943127]\n",
      " [-122.79715814   45.53828227]]\n",
      "[[-122.62767266   45.49194096]\n",
      " [-122.64221184   45.56590074]]\n",
      "[[-122.62764833   45.49111473]\n",
      " [-122.6415445    45.564227  ]]\n",
      "[[-122.62667296   45.49041521]\n",
      " [-122.64311219   45.56234438]]\n",
      "[[-122.62461709   45.48898839]\n",
      " [-122.64579443   45.5589433 ]]\n",
      "[[-122.61634839   45.48537571]\n",
      " [-122.6541205    45.55174136]]\n",
      "[[-122.59138469   45.48359997]\n",
      " [-122.67315276   45.54185774]]\n",
      "[[-122.57243797   45.49205903]\n",
      " [-122.68597792   45.53086706]]\n",
      "[[-122.56618      45.50641903]\n",
      " [-122.70740619   45.51911431]]\n",
      "[[-122.56409551   45.51016235]\n",
      " [-122.70981637   45.51478609]]\n",
      "ssesplt和seNotSplit 3073.8303715312386 0.0\n",
      "bestCentToSplit: 0\n",
      "len(bestClustAss): 69\n"
     ]
    },
    {
     "data": {
      "image/png": "[encoded data removed]",
      "text/plain": [
       "<matplotlib.figure.Figure at 0xb3efc18>"
      ]
     },
     "metadata": {},
     "output_type": "display_data"
    },
    {
     "name": "stdout",
     "output_type": "stream",
     "text": [
      "[[-122.60530123   45.47034295]\n",
      " [-122.63738773   45.52932683]]\n",
      "[[-122.55048971   45.4861019 ]\n",
      " [-122.58195312   45.54174169]]\n",
      "[[-122.5466182    45.4855611 ]\n",
      " [-122.58465706   45.539105  ]]\n",
      "[[-122.53852772   45.48428461]\n",
      " [-122.58831763   45.53467811]]\n",
      "[[-122.53441959   45.48363282]\n",
      " [-122.58932005   45.53271245]]\n",
      "ssesplt和seNotSplit 947.1653110010183 1685.0305259845018\n",
      "[[-122.80228194   45.44953862]\n",
      " [-122.76972249   45.59567148]]\n",
      "[[-122.73900186   45.4701195 ]\n",
      " [-122.68711656   45.54952678]]\n",
      "[[-122.745132     45.46769908]\n",
      " [-122.68565305   45.54700353]]\n",
      "[[-122.75334408   45.46622433]\n",
      " [-122.68369975   45.54392315]]\n",
      "ssesplt和seNotSplit 904.1450176223287 1388.799845546737\n",
      "bestCentToSplit: 1\n",
      "len(bestClustAss): 32\n"
     ]
    },
    {
     "data": {
      "image/png": "[encoded data removed]",
      "text/plain": [
       "<matplotlib.figure.Figure at 0xbc04470>"
      ]
     },
     "metadata": {},
     "output_type": "display_data"
    },
    {
     "name": "stdout",
     "output_type": "stream",
     "text": [
      "[[-122.43417653   45.56136395]\n",
      " [-122.51262716   45.4208514 ]]\n",
      "[[-122.55228053   45.53730868]\n",
      " [-122.57656689   45.48150789]]\n",
      "[[-122.55507981   45.53549419]\n",
      " [-122.57592862   45.47691431]]\n",
      "ssesplt和seNotSplit 979.6339852828125 904.1450176223287\n",
      "[[-122.74413408   45.40734576]\n",
      " [-122.66914152   45.46922833]]\n",
      "[[-122.76199717   45.44543167]\n",
      " [-122.744691     45.487017  ]]\n",
      "[[-122.7458315    45.42503625]\n",
      " [-122.75710037   45.48681838]]\n",
      "ssesplt和seNotSplit 164.05140193628347 2000.9503279693156\n",
      "[[-122.76518687   45.55871063]\n",
      " [-122.68455005   45.52651146]]\n",
      "[[-122.76690133   45.612314  ]\n",
      " [-122.66901712   45.53185418]]\n",
      "ssesplt和seNotSplit 260.01453591627615 1680.7943807464874\n",
      "bestCentToSplit: 0\n",
      "len(bestClustAss): 37\n"
     ]
    },
    {
     "data": {
      "image/png": "[encoded data removed]",
      "text/plain": [
       "<matplotlib.figure.Figure at 0x8bc10b8>"
      ]
     },
     "metadata": {},
     "output_type": "display_data"
    },
    {
     "name": "stdout",
     "output_type": "stream",
     "text": [
      "[[-122.50863415   45.55356089]\n",
      " [-122.5895351    45.51768771]]\n",
      "[[-122.497383     45.51742033]\n",
      " [-122.57815853   45.54272373]]\n",
      "[[-122.50707075   45.51609638]\n",
      " [-122.58462385   45.54743131]]\n",
      "ssesplt和seNotSplit 131.8897727338875 1511.054632544769\n",
      "[[-122.67068398   45.38941551]\n",
      " [-122.7127427    45.42185883]]\n",
      "[[          nan           nan]\n",
      " [-122.75334408   45.46622433]]\n",
      "ssesplt和seNotSplit 291.9945351997503 1591.7844677053913\n",
      "[[-122.72353951   45.57838818]\n",
      " [-122.70902027   45.63554418]]\n",
      "[[-122.67531984   45.53850695]\n",
      " [-122.842918     45.646831  ]]\n",
      "ssesplt和seNotSplit 312.7539395588533 1271.6285204825629\n",
      "[[-122.61039095   45.43358135]\n",
      " [-122.37997757   45.44110468]]\n",
      "[[-122.58923693   45.48002067]\n",
      " [-122.376304     45.430319  ]]\n",
      "ssesplt和seNotSplit 319.63899713378487 1276.8693879827013\n",
      "bestCentToSplit: 2\n",
      "len(bestClustAss): 20\n"
     ]
    },
    {
     "name": "stderr",
     "output_type": "stream",
     "text": [
      "C:\\ProgramData\\Anaconda3\\lib\\site-packages\\numpy\\matrixlib\\defmatrix.py:536: RuntimeWarning: Mean of empty slice.\n",
      "  return N.ndarray.mean(self, axis, dtype, out, keepdims=True)._collapse(axis)\n",
      "C:\\ProgramData\\Anaconda3\\lib\\site-packages\\numpy\\core\\_methods.py:73: RuntimeWarning: invalid value encountered in true_divide\n",
      "  ret, rcount, out=ret, casting='unsafe', subok=False)\n"
     ]
    },
    {
     "data": {
      "image/png": "[encoded data removed]",
      "text/plain": [
       "<matplotlib.figure.Figure at 0x8d748d0>"
      ]
     },
     "metadata": {},
     "output_type": "display_data"
    },
    {
     "data": {
      "image/png": "[encoded data removed]",
      "text/plain": [
       "<matplotlib.figure.Figure at 0xb466e10>"
      ]
     },
     "metadata": {},
     "output_type": "display_data"
    }
   ],
   "source": [
    "clusterClubs(5)"
   ]
  },
  {
   "cell_type": "markdown",
   "metadata": {},
   "source": [
    "#  尝试使用SKlearn中的数据集"
   ]
  },
  {
   "cell_type": "code",
   "execution_count": 74,
   "metadata": {},
   "outputs": [],
   "source": [
    "from sklearn import datasets\n",
    "\n",
    "iris=datasets.load_iris()###纸鸢花数据集\n",
    "x=iris.data\n",
    "y=iris.target"
   ]
  },
  {
   "cell_type": "code",
   "execution_count": 75,
   "metadata": {},
   "outputs": [
    {
     "data": {
      "text/plain": [
       "array([0, 0, 0, 0, 0, 0, 0, 0, 0, 0, 0, 0, 0, 0, 0, 0, 0, 0, 0, 0, 0, 0,\n",
       "       0, 0, 0, 0, 0, 0, 0, 0, 0, 0, 0, 0, 0, 0, 0, 0, 0, 0, 0, 0, 0, 0,\n",
       "       0, 0, 0, 0, 0, 0, 1, 1, 1, 1, 1, 1, 1, 1, 1, 1, 1, 1, 1, 1, 1, 1,\n",
       "       1, 1, 1, 1, 1, 1, 1, 1, 1, 1, 1, 1, 1, 1, 1, 1, 1, 1, 1, 1, 1, 1,\n",
       "       1, 1, 1, 1, 1, 1, 1, 1, 1, 1, 1, 1, 2, 2, 2, 2, 2, 2, 2, 2, 2, 2,\n",
       "       2, 2, 2, 2, 2, 2, 2, 2, 2, 2, 2, 2, 2, 2, 2, 2, 2, 2, 2, 2, 2, 2,\n",
       "       2, 2, 2, 2, 2, 2, 2, 2, 2, 2, 2, 2, 2, 2, 2, 2, 2, 2])"
      ]
     },
     "execution_count": 75,
     "metadata": {},
     "output_type": "execute_result"
    }
   ],
   "source": [
    "y"
   ]
  },
  {
   "cell_type": "code",
   "execution_count": 76,
   "metadata": {},
   "outputs": [
    {
     "data": {
      "text/plain": [
       "array([[5.1, 3.5, 1.4, 0.2],\n",
       "       [4.9, 3. , 1.4, 0.2],\n",
       "       [4.7, 3.2, 1.3, 0.2],\n",
       "       [4.6, 3.1, 1.5, 0.2],\n",
       "       [5. , 3.6, 1.4, 0.2],\n",
       "       [5.4, 3.9, 1.7, 0.4],\n",
       "       [4.6, 3.4, 1.4, 0.3],\n",
       "       [5. , 3.4, 1.5, 0.2],\n",
       "       [4.4, 2.9, 1.4, 0.2],\n",
       "       [4.9, 3.1, 1.5, 0.1],\n",
       "       [5.4, 3.7, 1.5, 0.2],\n",
       "       [4.8, 3.4, 1.6, 0.2],\n",
       "       [4.8, 3. , 1.4, 0.1],\n",
       "       [4.3, 3. , 1.1, 0.1],\n",
       "       [5.8, 4. , 1.2, 0.2],\n",
       "       [5.7, 4.4, 1.5, 0.4],\n",
       "       [5.4, 3.9, 1.3, 0.4],\n",
       "       [5.1, 3.5, 1.4, 0.3],\n",
       "       [5.7, 3.8, 1.7, 0.3],\n",
       "       [5.1, 3.8, 1.5, 0.3],\n",
       "       [5.4, 3.4, 1.7, 0.2],\n",
       "       [5.1, 3.7, 1.5, 0.4],\n",
       "       [4.6, 3.6, 1. , 0.2],\n",
       "       [5.1, 3.3, 1.7, 0.5],\n",
       "       [4.8, 3.4, 1.9, 0.2],\n",
       "       [5. , 3. , 1.6, 0.2],\n",
       "       [5. , 3.4, 1.6, 0.4],\n",
       "       [5.2, 3.5, 1.5, 0.2],\n",
       "       [5.2, 3.4, 1.4, 0.2],\n",
       "       [4.7, 3.2, 1.6, 0.2],\n",
       "       [4.8, 3.1, 1.6, 0.2],\n",
       "       [5.4, 3.4, 1.5, 0.4],\n",
       "       [5.2, 4.1, 1.5, 0.1],\n",
       "       [5.5, 4.2, 1.4, 0.2],\n",
       "       [4.9, 3.1, 1.5, 0.1],\n",
       "       [5. , 3.2, 1.2, 0.2],\n",
       "       [5.5, 3.5, 1.3, 0.2],\n",
       "       [4.9, 3.1, 1.5, 0.1],\n",
       "       [4.4, 3. , 1.3, 0.2],\n",
       "       [5.1, 3.4, 1.5, 0.2],\n",
       "       [5. , 3.5, 1.3, 0.3],\n",
       "       [4.5, 2.3, 1.3, 0.3],\n",
       "       [4.4, 3.2, 1.3, 0.2],\n",
       "       [5. , 3.5, 1.6, 0.6],\n",
       "       [5.1, 3.8, 1.9, 0.4],\n",
       "       [4.8, 3. , 1.4, 0.3],\n",
       "       [5.1, 3.8, 1.6, 0.2],\n",
       "       [4.6, 3.2, 1.4, 0.2],\n",
       "       [5.3, 3.7, 1.5, 0.2],\n",
       "       [5. , 3.3, 1.4, 0.2],\n",
       "       [7. , 3.2, 4.7, 1.4],\n",
       "       [6.4, 3.2, 4.5, 1.5],\n",
       "       [6.9, 3.1, 4.9, 1.5],\n",
       "       [5.5, 2.3, 4. , 1.3],\n",
       "       [6.5, 2.8, 4.6, 1.5],\n",
       "       [5.7, 2.8, 4.5, 1.3],\n",
       "       [6.3, 3.3, 4.7, 1.6],\n",
       "       [4.9, 2.4, 3.3, 1. ],\n",
       "       [6.6, 2.9, 4.6, 1.3],\n",
       "       [5.2, 2.7, 3.9, 1.4],\n",
       "       [5. , 2. , 3.5, 1. ],\n",
       "       [5.9, 3. , 4.2, 1.5],\n",
       "       [6. , 2.2, 4. , 1. ],\n",
       "       [6.1, 2.9, 4.7, 1.4],\n",
       "       [5.6, 2.9, 3.6, 1.3],\n",
       "       [6.7, 3.1, 4.4, 1.4],\n",
       "       [5.6, 3. , 4.5, 1.5],\n",
       "       [5.8, 2.7, 4.1, 1. ],\n",
       "       [6.2, 2.2, 4.5, 1.5],\n",
       "       [5.6, 2.5, 3.9, 1.1],\n",
       "       [5.9, 3.2, 4.8, 1.8],\n",
       "       [6.1, 2.8, 4. , 1.3],\n",
       "       [6.3, 2.5, 4.9, 1.5],\n",
       "       [6.1, 2.8, 4.7, 1.2],\n",
       "       [6.4, 2.9, 4.3, 1.3],\n",
       "       [6.6, 3. , 4.4, 1.4],\n",
       "       [6.8, 2.8, 4.8, 1.4],\n",
       "       [6.7, 3. , 5. , 1.7],\n",
       "       [6. , 2.9, 4.5, 1.5],\n",
       "       [5.7, 2.6, 3.5, 1. ],\n",
       "       [5.5, 2.4, 3.8, 1.1],\n",
       "       [5.5, 2.4, 3.7, 1. ],\n",
       "       [5.8, 2.7, 3.9, 1.2],\n",
       "       [6. , 2.7, 5.1, 1.6],\n",
       "       [5.4, 3. , 4.5, 1.5],\n",
       "       [6. , 3.4, 4.5, 1.6],\n",
       "       [6.7, 3.1, 4.7, 1.5],\n",
       "       [6.3, 2.3, 4.4, 1.3],\n",
       "       [5.6, 3. , 4.1, 1.3],\n",
       "       [5.5, 2.5, 4. , 1.3],\n",
       "       [5.5, 2.6, 4.4, 1.2],\n",
       "       [6.1, 3. , 4.6, 1.4],\n",
       "       [5.8, 2.6, 4. , 1.2],\n",
       "       [5. , 2.3, 3.3, 1. ],\n",
       "       [5.6, 2.7, 4.2, 1.3],\n",
       "       [5.7, 3. , 4.2, 1.2],\n",
       "       [5.7, 2.9, 4.2, 1.3],\n",
       "       [6.2, 2.9, 4.3, 1.3],\n",
       "       [5.1, 2.5, 3. , 1.1],\n",
       "       [5.7, 2.8, 4.1, 1.3],\n",
       "       [6.3, 3.3, 6. , 2.5],\n",
       "       [5.8, 2.7, 5.1, 1.9],\n",
       "       [7.1, 3. , 5.9, 2.1],\n",
       "       [6.3, 2.9, 5.6, 1.8],\n",
       "       [6.5, 3. , 5.8, 2.2],\n",
       "       [7.6, 3. , 6.6, 2.1],\n",
       "       [4.9, 2.5, 4.5, 1.7],\n",
       "       [7.3, 2.9, 6.3, 1.8],\n",
       "       [6.7, 2.5, 5.8, 1.8],\n",
       "       [7.2, 3.6, 6.1, 2.5],\n",
       "       [6.5, 3.2, 5.1, 2. ],\n",
       "       [6.4, 2.7, 5.3, 1.9],\n",
       "       [6.8, 3. , 5.5, 2.1],\n",
       "       [5.7, 2.5, 5. , 2. ],\n",
       "       [5.8, 2.8, 5.1, 2.4],\n",
       "       [6.4, 3.2, 5.3, 2.3],\n",
       "       [6.5, 3. , 5.5, 1.8],\n",
       "       [7.7, 3.8, 6.7, 2.2],\n",
       "       [7.7, 2.6, 6.9, 2.3],\n",
       "       [6. , 2.2, 5. , 1.5],\n",
       "       [6.9, 3.2, 5.7, 2.3],\n",
       "       [5.6, 2.8, 4.9, 2. ],\n",
       "       [7.7, 2.8, 6.7, 2. ],\n",
       "       [6.3, 2.7, 4.9, 1.8],\n",
       "       [6.7, 3.3, 5.7, 2.1],\n",
       "       [7.2, 3.2, 6. , 1.8],\n",
       "       [6.2, 2.8, 4.8, 1.8],\n",
       "       [6.1, 3. , 4.9, 1.8],\n",
       "       [6.4, 2.8, 5.6, 2.1],\n",
       "       [7.2, 3. , 5.8, 1.6],\n",
       "       [7.4, 2.8, 6.1, 1.9],\n",
       "       [7.9, 3.8, 6.4, 2. ],\n",
       "       [6.4, 2.8, 5.6, 2.2],\n",
       "       [6.3, 2.8, 5.1, 1.5],\n",
       "       [6.1, 2.6, 5.6, 1.4],\n",
       "       [7.7, 3. , 6.1, 2.3],\n",
       "       [6.3, 3.4, 5.6, 2.4],\n",
       "       [6.4, 3.1, 5.5, 1.8],\n",
       "       [6. , 3. , 4.8, 1.8],\n",
       "       [6.9, 3.1, 5.4, 2.1],\n",
       "       [6.7, 3.1, 5.6, 2.4],\n",
       "       [6.9, 3.1, 5.1, 2.3],\n",
       "       [5.8, 2.7, 5.1, 1.9],\n",
       "       [6.8, 3.2, 5.9, 2.3],\n",
       "       [6.7, 3.3, 5.7, 2.5],\n",
       "       [6.7, 3. , 5.2, 2.3],\n",
       "       [6.3, 2.5, 5. , 1.9],\n",
       "       [6.5, 3. , 5.2, 2. ],\n",
       "       [6.2, 3.4, 5.4, 2.3],\n",
       "       [5.9, 3. , 5.1, 1.8]])"
      ]
     },
     "execution_count": 76,
     "metadata": {},
     "output_type": "execute_result"
    }
   ],
   "source": [
    "x"
   ]
  },
  {
   "cell_type": "code",
   "execution_count": 77,
   "metadata": {},
   "outputs": [],
   "source": [
    "dataMat4 = np.mat(x)\n"
   ]
  },
  {
   "cell_type": "code",
   "execution_count": 78,
   "metadata": {},
   "outputs": [
    {
     "ename": "ValueError",
     "evalue": "too many values to unpack (expected 2)",
     "output_type": "error",
     "traceback": [
      "\u001b[1;31m---------------------------------------------------------------------------\u001b[0m",
      "\u001b[1;31mValueError\u001b[0m                                Traceback (most recent call last)",
      "\u001b[1;32m<ipython-input-78-e8cceb09f5ca>\u001b[0m in \u001b[0;36m<module>\u001b[1;34m()\u001b[0m\n\u001b[1;32m----> 1\u001b[1;33m \u001b[0mmyCentroids2\u001b[0m\u001b[1;33m,\u001b[0m\u001b[0mmyclusterAssment2\u001b[0m \u001b[1;33m=\u001b[0m \u001b[0mk_means\u001b[0m\u001b[1;33m(\u001b[0m\u001b[0mdataMat4\u001b[0m\u001b[1;33m,\u001b[0m\u001b[1;36m3\u001b[0m\u001b[1;33m)\u001b[0m\u001b[1;33m\u001b[0m\u001b[0m\n\u001b[0m",
      "\u001b[1;31mValueError\u001b[0m: too many values to unpack (expected 2)"
     ]
    }
   ],
   "source": [
    "myCentroids2,myclusterAssment2 = k_means(dataMat4,3)"
   ]
  },
  {
   "cell_type": "code",
   "execution_count": null,
   "metadata": {},
   "outputs": [],
   "source": [
    "dataArray2 = np.array(x)\n",
    "myCentroidsArray2 = np.array(myCentroids2)\n",
    "##  散点图\n",
    "plt.scatter(dataArray2[:,0],dataArray2[:,1],c='green')\n",
    "plt.scatter(myCentroidsArray2[:,0],myCentroidsArray2[:,1],c='red')\n",
    "plt.show()"
   ]
  },
  {
   "cell_type": "code",
   "execution_count": null,
   "metadata": {},
   "outputs": [],
   "source": []
  },
  {
   "cell_type": "code",
   "execution_count": null,
   "metadata": {},
   "outputs": [],
   "source": []
  }
 ],
 "metadata": {
  "kernelspec": {
   "display_name": "Python 3",
   "language": "python",
   "name": "python3"
  },
  "language_info": {
   "codemirror_mode": {
    "name": "ipython",
    "version": 3
   },
   "file_extension": ".py",
   "mimetype": "text/x-python",
   "name": "python",
   "nbconvert_exporter": "python",
   "pygments_lexer": "ipython3",
   "version": "3.6.4"
  }
 },
 "nbformat": 4,
 "nbformat_minor": 2
}
