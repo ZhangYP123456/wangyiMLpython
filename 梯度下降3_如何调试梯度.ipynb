{
 "cells": [
  {
   "cell_type": "markdown",
   "metadata": {},
   "source": [
    "# 如何调试梯度"
   ]
  },
  {
   "cell_type": "code",
   "execution_count": 3,
   "metadata": {},
   "outputs": [],
   "source": [
    "import numpy as np \n",
    "import matplotlib.pyplot as plt"
   ]
  },
  {
   "cell_type": "code",
   "execution_count": 5,
   "metadata": {},
   "outputs": [],
   "source": [
    "np.random.seed(666)\n",
    "x=np.random.random(size=(1000,10))"
   ]
  },
  {
   "cell_type": "code",
   "execution_count": 6,
   "metadata": {},
   "outputs": [],
   "source": [
    "true_theta=np.arange(1,12,dtype=float)"
   ]
  },
  {
   "cell_type": "code",
   "execution_count": 8,
   "metadata": {},
   "outputs": [],
   "source": [
    "x_b=np.hstack([np.ones((len(x),1)),x])#####按列叠加起来\n",
    "y=x_b.dot(true_theta)+np.random.normal(size=1000)"
   ]
  },
  {
   "cell_type": "code",
   "execution_count": 9,
   "metadata": {},
   "outputs": [
    {
     "data": {
      "text/plain": [
       "(1000, 10)"
      ]
     },
     "execution_count": 9,
     "metadata": {},
     "output_type": "execute_result"
    }
   ],
   "source": [
    "x.shape"
   ]
  },
  {
   "cell_type": "code",
   "execution_count": 10,
   "metadata": {},
   "outputs": [
    {
     "data": {
      "text/plain": [
       "(1000,)"
      ]
     },
     "execution_count": 10,
     "metadata": {},
     "output_type": "execute_result"
    }
   ],
   "source": [
    "y.shape"
   ]
  },
  {
   "cell_type": "code",
   "execution_count": 11,
   "metadata": {},
   "outputs": [
    {
     "data": {
      "text/plain": [
       "array([ 1.,  2.,  3.,  4.,  5.,  6.,  7.,  8.,  9., 10., 11.])"
      ]
     },
     "execution_count": 11,
     "metadata": {},
     "output_type": "execute_result"
    }
   ],
   "source": [
    "true_theta"
   ]
  },
  {
   "cell_type": "code",
   "execution_count": 12,
   "metadata": {},
   "outputs": [
    {
     "data": {
      "text/plain": [
       "array([[1.        , 0.70043712, 0.84418664, ..., 0.04881279, 0.09992856,\n",
       "        0.50806631],\n",
       "       [1.        , 0.20024754, 0.74415417, ..., 0.11285765, 0.11095367,\n",
       "        0.24766823],\n",
       "       [1.        , 0.0232363 , 0.72732115, ..., 0.25913185, 0.58381262,\n",
       "        0.32569065],\n",
       "       ...,\n",
       "       [1.        , 0.88593917, 0.49480495, ..., 0.50598273, 0.86447115,\n",
       "        0.31128276],\n",
       "       [1.        , 0.81051618, 0.87890841, ..., 0.37299025, 0.81523744,\n",
       "        0.31074351],\n",
       "       [1.        , 0.75052272, 0.98612317, ..., 0.26679141, 0.34224855,\n",
       "        0.02366081]])"
      ]
     },
     "execution_count": 12,
     "metadata": {},
     "output_type": "execute_result"
    }
   ],
   "source": [
    "x_b"
   ]
  },
  {
   "cell_type": "code",
   "execution_count": 13,
   "metadata": {},
   "outputs": [],
   "source": [
    "def J(theta,x_b,y):\n",
    "    try:\n",
    "        return  np.sum(((y-x_b.dot(theta))**2))/len(x_b)                         \n",
    "#np.dot(A, B)：对于二维矩阵，计算真正意义上的矩阵乘积，同线性代数中矩阵乘法的定义。对于一维矩阵，计算两者的内积\n",
    "    except:\n",
    "        return float('inf')\n",
    "\n",
    "def dJ_math(theta,x_b,y):\n",
    "    return x_b.T.dot(x_b.dot(theta)-y)*2./len(y)"
   ]
  },
  {
   "cell_type": "code",
   "execution_count": 16,
   "metadata": {},
   "outputs": [],
   "source": [
    "def dJ_debug(theta,x_b,y,epsilon=0.01):          ###########很重要\n",
    "    res=np.empty(len(theta))\n",
    "    for i in range(len(theta)):\n",
    "        theta_1=theta.copy()\n",
    "        theta_1[i]+=epsilon\n",
    "        theta_2=theta.copy()\n",
    "        theta_2[i]-=epsilon\n",
    "        res[i]=(J(theta_1,x_b,y)-J(theta_2,x_b,y))/(2*epsilon)\n",
    "    return  res"
   ]
  },
  {
   "cell_type": "code",
   "execution_count": 17,
   "metadata": {},
   "outputs": [],
   "source": [
    "def gradient_descent(dJ,x_b ,y , initial_theta , eta, n_iters=1e4):\n",
    "    theta=initial_theta \n",
    "    i_iter=0\n",
    "    esplion=1e-8\n",
    "    \n",
    "    while i_iter<n_iters:\n",
    "        gradient=dJ(theta,x_b,y)\n",
    "        last_theta=theta\n",
    "        theta=theta-eta * gradient  ###迭代 让theta每次都能向导数的负方向移一步\n",
    "\n",
    "        if(abs((J(last_theta,x_b,y)-J(theta,x_b,y)).any())<esplion):\n",
    "              break\n",
    "        i_iter+=1\n",
    "    return theta"
   ]
  },
  {
   "cell_type": "code",
   "execution_count": 18,
   "metadata": {},
   "outputs": [
    {
     "name": "stdout",
     "output_type": "stream",
     "text": [
      "Wall time: 3.61 s\n"
     ]
    },
    {
     "data": {
      "text/plain": [
       "array([ 1.1251597 ,  2.05312521,  2.91522497,  4.11895968,  5.05002117,\n",
       "        5.90494046,  6.97383745,  8.00088367,  8.86213468,  9.98608331,\n",
       "       10.90529198])"
      ]
     },
     "execution_count": 18,
     "metadata": {},
     "output_type": "execute_result"
    }
   ],
   "source": [
    "x_b=np.hstack([np.ones((len(x),1)),x])\n",
    "initial_theta=np.zeros(x_b.shape[1])\n",
    "eta=0.01\n",
    "\n",
    "%time theta=gradient_descent(dJ_debug,x_b, y, initial_theta, eta)\n",
    "theta"
   ]
  },
  {
   "cell_type": "code",
   "execution_count": 19,
   "metadata": {},
   "outputs": [
    {
     "name": "stdout",
     "output_type": "stream",
     "text": [
      "Wall time: 663 ms\n"
     ]
    },
    {
     "data": {
      "text/plain": [
       "array([ 1.1251597 ,  2.05312521,  2.91522497,  4.11895968,  5.05002117,\n",
       "        5.90494046,  6.97383745,  8.00088367,  8.86213468,  9.98608331,\n",
       "       10.90529198])"
      ]
     },
     "execution_count": 19,
     "metadata": {},
     "output_type": "execute_result"
    }
   ],
   "source": [
    "%time theta=gradient_descent(dJ_math,x_b, y, initial_theta, eta)\n",
    "theta"
   ]
  },
  {
   "cell_type": "code",
   "execution_count": null,
   "metadata": {},
   "outputs": [],
   "source": []
  }
 ],
 "metadata": {
  "kernelspec": {
   "display_name": "Python 3",
   "language": "python",
   "name": "python3"
  },
  "language_info": {
   "codemirror_mode": {
    "name": "ipython",
    "version": 3
   },
   "file_extension": ".py",
   "mimetype": "text/x-python",
   "name": "python",
   "nbconvert_exporter": "python",
   "pygments_lexer": "ipython3",
   "version": "3.6.4"
  }
 },
 "nbformat": 4,
 "nbformat_minor": 2
}
