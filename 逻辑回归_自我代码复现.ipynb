{
 "cells": [
  {
   "cell_type": "markdown",
   "metadata": {},
   "source": [
    "# 个人逻辑回归编程的实现"
   ]
  },
  {
   "cell_type": "code",
   "execution_count": 25,
   "metadata": {},
   "outputs": [],
   "source": [
    "from sklearn import datasets\n",
    "import numpy as np \n",
    "import sys\n",
    "sys.path.append(\"F:/PYCode\")####假如模块搜索的路径"
   ]
  },
  {
   "cell_type": "code",
   "execution_count": 26,
   "metadata": {},
   "outputs": [],
   "source": [
    "iris=datasets.load_iris()###纸鸢花数据集\n",
    "x=iris.data\n",
    "y=iris.target\n",
    "x=x[y<2,:2] #####只剩下两种分类0,1，只取前两个特征\n",
    "y=y[y<2]"
   ]
  },
  {
   "cell_type": "markdown",
   "metadata": {},
   "source": [
    "### 将数据集切分为2:8 "
   ]
  },
  {
   "cell_type": "code",
   "execution_count": 27,
   "metadata": {},
   "outputs": [],
   "source": [
    "def train_test_split(x ,y , test_ratic, seed):\n",
    "    assert  0.0 <= test_ratic <= 1.0\n",
    "    assert  x.shape[0] == y.shape[0]\n",
    "    \n",
    "    \n",
    "    if(seed):\n",
    "        np.random.seed(seed)\n",
    "    \n",
    "    shuffe_index = np.random.permutation(len(x))\n",
    "    test_size = int(len(shuffe_index)*test_ratic)\n",
    "    train_index = shuffe_index[test_size:]\n",
    "    test_index = shuffe_index[:test_size]\n",
    "    x_train = x[train_index]\n",
    "    x_test = x[test_index]\n",
    "    y_train = y[train_index]\n",
    "    y_test = y[test_index]\n",
    "    \n",
    "    return x_train, x_test, y_test, y_train\n",
    "    "
   ]
  },
  {
   "cell_type": "code",
   "execution_count": 28,
   "metadata": {},
   "outputs": [
    {
     "name": "stdout",
     "output_type": "stream",
     "text": [
      "[0 0 1 1 0 0 0 0 0 1 1 1 0 1 0 1 1 1 1 0 0 1 1 1 1 0 0 0 0 1 1 0 1 1 1 0 1\n",
      " 0 1 1 0 0 1 1 0 0 0 1 1 0 1 1 0 1 1 0 0 0 1 0 1 1 1 0 0 0 1 0 0 1 1 1 0 1\n",
      " 1 1 1 0 0 0]\n",
      "[1 1 0 0 0 0 0 1 1 1 0 0 0 0 1 1 1 0 0 0]\n"
     ]
    }
   ],
   "source": [
    "x_train, x_test, y_test, y_train = train_test_split(x ,y , test_ratic = 0.2, seed=666)\n",
    "print(y_train)\n",
    "print(y_test)"
   ]
  },
  {
   "cell_type": "markdown",
   "metadata": {},
   "source": [
    "### 处理求得theta "
   ]
  },
  {
   "cell_type": "code",
   "execution_count": 29,
   "metadata": {},
   "outputs": [],
   "source": [
    "def theta(x_train, y_train):\n",
    "        \n",
    "    x_b = np.hstack([np.ones([len(x_train),1]),x_train]) #### x_b 为添加一列1的增广矩阵\n",
    "    \n",
    "    theta = np.linalg.inv(x_b.T.dot(x_b)).dot(x_b.T).dot(y_train)\n",
    "    interception = theta[0]\n",
    "    coef = theta[1:]\n",
    "    return theta\n",
    "        "
   ]
  },
  {
   "cell_type": "code",
   "execution_count": 30,
   "metadata": {},
   "outputs": [],
   "source": [
    "def predict(x_b,theta):  \n",
    "    sigmoid = 1.0/(1+np.exp(-(x_b.dot(theta))))    \n",
    "    y_true = np.ones([len(sigmoid),1])\n",
    "  \n",
    "    for i in range(0,sigmoid.shape[0]):\n",
    "        if(sigmoid[i]>=0.5):\n",
    "            y_true[i] = 1\n",
    "        if(sigmoid[i]<0.5):\n",
    "            y_true[i] = 0\n",
    "    return y_true"
   ]
  },
  {
   "cell_type": "code",
   "execution_count": null,
   "metadata": {},
   "outputs": [],
   "source": []
  },
  {
   "cell_type": "code",
   "execution_count": 31,
   "metadata": {},
   "outputs": [
    {
     "data": {
      "text/plain": [
       "array([-0.21671781,  0.46832935, -0.59541426])"
      ]
     },
     "execution_count": 31,
     "metadata": {},
     "output_type": "execute_result"
    }
   ],
   "source": [
    "theta = theta(x_train, y_train)\n",
    "theta"
   ]
  },
  {
   "cell_type": "code",
   "execution_count": 32,
   "metadata": {},
   "outputs": [
    {
     "name": "stdout",
     "output_type": "stream",
     "text": [
      "[[1.]\n",
      " [1.]\n",
      " [1.]\n",
      " [1.]\n",
      " [1.]\n",
      " [0.]\n",
      " [1.]\n",
      " [1.]\n",
      " [1.]\n",
      " [1.]\n",
      " [1.]\n",
      " [0.]\n",
      " [1.]\n",
      " [1.]\n",
      " [1.]\n",
      " [1.]\n",
      " [1.]\n",
      " [1.]\n",
      " [1.]\n",
      " [1.]]\n",
      "[1 1 0 0 0 0 0 1 1 1 0 0 0 0 1 1 1 0 0 0]\n",
      "8.4\n"
     ]
    }
   ],
   "source": [
    "x_b = np.hstack([np.ones([len(x_test),1]),x_test]) #### x_b 为添加一列1的增广矩阵\n",
    "y_sig = predict(x_b,theta)\n",
    "print(y_sig)\n",
    "print(y_test)\n",
    "print(np.sum(y_sig == y_test)/len(y_test))"
   ]
  },
  {
   "cell_type": "code",
   "execution_count": 33,
   "metadata": {},
   "outputs": [],
   "source": [
    "from machine_learning.LinearRegression import LinearRegression"
   ]
  },
  {
   "cell_type": "code",
   "execution_count": 34,
   "metadata": {},
   "outputs": [],
   "source": [
    "lin_reg = LinearRegression()"
   ]
  },
  {
   "cell_type": "code",
   "execution_count": 35,
   "metadata": {},
   "outputs": [
    {
     "data": {
      "text/plain": [
       "LinearRegression()"
      ]
     },
     "execution_count": 35,
     "metadata": {},
     "output_type": "execute_result"
    }
   ],
   "source": [
    "lin_reg.fit_normal(x_train, y_train)"
   ]
  },
  {
   "cell_type": "code",
   "execution_count": 37,
   "metadata": {},
   "outputs": [
    {
     "data": {
      "text/plain": [
       "array([ 0.85384844,  0.98964081,  0.2196033 ,  0.23231179,  0.04097902,\n",
       "       -0.08681129,  0.08781196,  1.24522143,  1.07530462,  0.61968376,\n",
       "        0.10922791, -0.22260366,  0.29185322,  0.04097902,  0.76889003,\n",
       "        0.6109763 ,  0.67922519,  0.33868615,  0.19018529,  0.24502028])"
      ]
     },
     "execution_count": 37,
     "metadata": {},
     "output_type": "execute_result"
    }
   ],
   "source": [
    "lin_reg.predict(x_test)"
   ]
  },
  {
   "cell_type": "code",
   "execution_count": 38,
   "metadata": {},
   "outputs": [
    {
     "data": {
      "text/plain": [
       "array([-0.21671781,  0.46832935, -0.59541426])"
      ]
     },
     "execution_count": 38,
     "metadata": {},
     "output_type": "execute_result"
    }
   ],
   "source": [
    "lin_reg._theta"
   ]
  },
  {
   "cell_type": "code",
   "execution_count": 45,
   "metadata": {},
   "outputs": [],
   "source": [
    "a = x_train[0:10,1]"
   ]
  },
  {
   "cell_type": "code",
   "execution_count": 46,
   "metadata": {},
   "outputs": [],
   "source": [
    "b = y_train[:10]"
   ]
  },
  {
   "cell_type": "code",
   "execution_count": 47,
   "metadata": {},
   "outputs": [
    {
     "data": {
      "text/plain": [
       "array([0. , 0. , 3.1, 3.1, 0. , 0. , 0. , 0. , 0. , 2.9])"
      ]
     },
     "execution_count": 47,
     "metadata": {},
     "output_type": "execute_result"
    }
   ],
   "source": [
    "a*(b.T)"
   ]
  },
  {
   "cell_type": "code",
   "execution_count": null,
   "metadata": {},
   "outputs": [],
   "source": []
  }
 ],
 "metadata": {
  "kernelspec": {
   "display_name": "Python 3",
   "language": "python",
   "name": "python3"
  },
  "language_info": {
   "codemirror_mode": {
    "name": "ipython",
    "version": 3
   },
   "file_extension": ".py",
   "mimetype": "text/x-python",
   "name": "python",
   "nbconvert_exporter": "python",
   "pygments_lexer": "ipython3",
   "version": "3.6.4"
  }
 },
 "nbformat": 4,
 "nbformat_minor": 2
}
