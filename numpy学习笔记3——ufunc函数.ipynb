{
 "cells": [
  {
   "cell_type": "markdown",
   "metadata": {},
   "source": [
    "# ufunc函数"
   ]
  },
  {
   "cell_type": "markdown",
   "metadata": {},
   "source": [
    "1.numpy很多内置对象是c语言实现的，因此它的计算速度特别快\n",
    "\n",
    "2.np.sin(x,out=x):out表示由原数组x来保存结果,否则将新创一个数组来保存结果\n",
    "\n",
    "2.np.add()等等四则运算；==，>,<对数组进行比较;出现错误则用any(),all()\n",
    "\n",
    "3.自定义ufunc函数"
   ]
  },
  {
   "cell_type": "code",
   "execution_count": 2,
   "metadata": {},
   "outputs": [],
   "source": [
    "import numpy as np"
   ]
  },
  {
   "cell_type": "code",
   "execution_count": 11,
   "metadata": {},
   "outputs": [
    {
     "data": {
      "text/plain": [
       "array([ 0.00000000e+00,  6.42787610e-01,  9.84807753e-01,  8.66025404e-01,\n",
       "        3.42020143e-01, -3.42020143e-01, -8.66025404e-01, -9.84807753e-01,\n",
       "       -6.42787610e-01, -2.44929360e-16])"
      ]
     },
     "execution_count": 11,
     "metadata": {},
     "output_type": "execute_result"
    }
   ],
   "source": [
    "x=np.linspace(0,2*np.pi,10)     #0-2pi的等差数组\n",
    "y=np.sin(x,out=x)\n",
    "x"
   ]
  },
  {
   "cell_type": "code",
   "execution_count": 12,
   "metadata": {},
   "outputs": [
    {
     "data": {
      "text/plain": [
       "array([ True, False, False])"
      ]
     },
     "execution_count": 12,
     "metadata": {},
     "output_type": "execute_result"
    }
   ],
   "source": [
    "np.array([1,2,3])<np.array([3,2,1])"
   ]
  },
  {
   "cell_type": "markdown",
   "metadata": {},
   "source": [
    "Numpy对逻辑表达式判别不清楚，它可以返回False如果等号两边两个式子是数值相等，也可以返回True因为等号两边两个式子是逻辑相等。它觉得这是模棱两可的，因此放弃做判断，统一用a.any()进行或比较，或a.all()进行与比较。可以从下面例子体会一下。\n",
    "\n",
    "import numpy as numpy a=np.zeros(3) a[0]=0; a[1]=1; a[2]=2 print (a-[0,1,2]).any() #[0,0,0] False print (a-[0,1,2]).all() #[0,0,0] False print (a-[1,2,3]).any() #[-1,-1,-1] True print (a-[1,2,3]).all() #[-1,-1,-1] True print (a-[0,2,3]).any() #[0,-1,-1] True print (a-[0,2,3]).all() #[0,-1,-1] False\n",
    "\n",
    "numpy-array数组进行(a-b)比较时，True表示不同，False表示相同\n",
    "\n",
    "部分元素相等，.all()返False（一帮情况下不希望出现），.any()返回True; 所有元素都相等，二者均返回False\n",
    "\n",
    "因此最好使用.any()比较"
   ]
  },
  {
   "cell_type": "markdown",
   "metadata": {},
   "source": [
    "## 广播"
   ]
  },
  {
   "cell_type": "code",
   "execution_count": null,
   "metadata": {},
   "outputs": [],
   "source": []
  }
 ],
 "metadata": {
  "kernelspec": {
   "display_name": "Python 3",
   "language": "python",
   "name": "python3"
  },
  "language_info": {
   "codemirror_mode": {
    "name": "ipython",
    "version": 3
   },
   "file_extension": ".py",
   "mimetype": "text/x-python",
   "name": "python",
   "nbconvert_exporter": "python",
   "pygments_lexer": "ipython3",
   "version": "3.6.4"
  }
 },
 "nbformat": 4,
 "nbformat_minor": 2
}
