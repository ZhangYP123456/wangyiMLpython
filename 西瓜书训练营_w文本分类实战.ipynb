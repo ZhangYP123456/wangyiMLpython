{
 "cells": [
  {
   "cell_type": "markdown",
   "metadata": {},
   "source": [
    "# 文本分类"
   ]
  },
  {
   "cell_type": "code",
   "execution_count": 14,
   "metadata": {},
   "outputs": [],
   "source": [
    "import pandas as pd\n",
    "from sklearn.linear_model import LogisticRegression\n",
    "from sklearn.feature_extraction.text import CountVectorizer\n",
    "\n",
    "# 1.数据预处理;\n",
    "# 从硬盘上导入所需要的数据，并进行简单的处理\n",
    "\n",
    "def data(trainfile,testfile):\n",
    "    df_train = pd.read_csv(trainfile)\n",
    "    df_test = pd.read_csv(testfile)\n",
    "    df_train.drop(column=[\"article\",\"id\"], inplace = True)\n",
    "    df_test.drop(cloumn=[\"article\"], inplace = True)\n",
    "\n",
    "# 2.特征工程;\n",
    "# 将数据集中的字符文本转化成数字向量，以便计算机能够处理（一段文字》一个向量）\n",
    "\n",
    "    vectorizer = CountVectorizer(ngram_range=(1, 2), min_df=3, max_df=0.9, max_features=100000 )\n",
    "    vectorizer.fit(df_train['word_seg'])\n",
    "    x_train = vectorizer.transform(df_train['word_seg'])\n",
    "    x_test =  vectorizer.transform(df_test['word_seg'])\n",
    "    y_train = df_train[\"class\"]-1\n",
    "\n",
    "# 3.传统监督学习算法之逻辑回归算法;\n",
    "# 训练出一个分类器\n",
    "\n",
    "    lg = LogisticRegression(c = 4 , dual = True)\n",
    "    lg.fit(x_train, y_train)\n",
    "    y_test = lg.predict(x_test)\n",
    "    #根据上面训练好的分类器对测试集的每个样本进行预测\n",
    "\n",
    "# 4.将测试集保存到本地;\n",
    "\n",
    "    df_test['class'] = y_test.tolist()\n",
    "    df_test['class'] = df_test['class']+1\n",
    "    df_result = df_test.loc[:, ['id','class']]\n",
    "    df_result.to_csv('./result', index = False)\n",
    "\n",
    "\n",
    "    "
   ]
  },
  {
   "cell_type": "code",
   "execution_count": null,
   "metadata": {},
   "outputs": [],
   "source": [
    "data(trainfile=\"./train_set.csv\",testfile=\"./test_set.csv\")"
   ]
  }
 ],
 "metadata": {
  "kernelspec": {
   "display_name": "Python 3",
   "language": "python",
   "name": "python3"
  },
  "language_info": {
   "codemirror_mode": {
    "name": "ipython",
    "version": 3
   },
   "file_extension": ".py",
   "mimetype": "text/x-python",
   "name": "python",
   "nbconvert_exporter": "python",
   "pygments_lexer": "ipython3",
   "version": "3.6.4"
  }
 },
 "nbformat": 4,
 "nbformat_minor": 2
}
