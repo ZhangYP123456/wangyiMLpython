{
 "cells": [
  {
   "cell_type": "code",
   "execution_count": 55,
   "metadata": {
    "collapsed": true
   },
   "outputs": [],
   "source": [
    "import numpy as np \n",
    "import matplotlib.pyplot as plt\n",
    "from sklearn import datasets\n",
    "\n",
    "iris=datasets.load_iris()###纸鸢花数据集"
   ]
  },
  {
   "cell_type": "code",
   "execution_count": 56,
   "metadata": {
    "collapsed": true
   },
   "outputs": [],
   "source": [
    "x=iris.data\n",
    "y=iris.target"
   ]
  },
  {
   "cell_type": "code",
   "execution_count": 57,
   "metadata": {
    "collapsed": true
   },
   "outputs": [],
   "source": [
    "x=x[y<2,:2] #####只剩下两种分类0,1，只取前两个特征\n",
    "y=y[y<2]"
   ]
  },
  {
   "cell_type": "code",
   "execution_count": 58,
   "metadata": {},
   "outputs": [
    {
     "data": {
      "text/plain": [
       "(100, 2)"
      ]
     },
     "execution_count": 58,
     "metadata": {},
     "output_type": "execute_result"
    }
   ],
   "source": [
    "x.shape"
   ]
  },
  {
   "cell_type": "code",
   "execution_count": 59,
   "metadata": {},
   "outputs": [
    {
     "data": {
      "text/plain": [
       "(100,)"
      ]
     },
     "execution_count": 59,
     "metadata": {},
     "output_type": "execute_result"
    }
   ],
   "source": [
    "y.shape"
   ]
  },
  {
   "cell_type": "code",
   "execution_count": 60,
   "metadata": {},
   "outputs": [
    {
     "data": {
      "image/png": "[encoded data removed]",
      "text/plain": [
       "<matplotlib.figure.Figure at 0xbe8cd68>"
      ]
     },
     "metadata": {},
     "output_type": "display_data"
    }
   ],
   "source": [
    "plt.scatter(x[y==0,0],x[y==0,1],color=\"red\")\n",
    "plt.scatter(x[y==1,0],x[y==1,1],color=\"blue\")\n",
    "plt.show()"
   ]
  },
  {
   "cell_type": "markdown",
   "metadata": {},
   "source": [
    "# 逻辑回归中添加多项式特征"
   ]
  },
  {
   "cell_type": "code",
   "execution_count": 61,
   "metadata": {
    "collapsed": true
   },
   "outputs": [],
   "source": [
    "np.random.seed(666)"
   ]
  },
  {
   "cell_type": "code",
   "execution_count": 62,
   "metadata": {
    "collapsed": true
   },
   "outputs": [],
   "source": [
    "x=np.random.normal(0,1,size=(200,2))###### 均值为0，标准差为1。正态分布\n",
    "y=np.array(x[:,0]**2+x[:,1]**2<1.5,dtype='int')"
   ]
  },
  {
   "cell_type": "code",
   "execution_count": 63,
   "metadata": {},
   "outputs": [
    {
     "name": "stdout",
     "output_type": "stream",
     "text": [
      "[[ 0.82418808  0.479966  ]\n",
      " [ 1.17346801  0.90904807]\n",
      " [-0.57172145 -0.10949727]\n",
      " [ 0.01902826 -0.94376106]\n",
      " [ 0.64057315 -0.78644317]\n",
      " [ 0.60886999 -0.93101185]\n",
      " [ 0.97822225 -0.73691806]\n",
      " [-0.29873262 -0.46058737]\n",
      " [-1.08879299 -0.57577075]\n",
      " [-1.68290077  0.22918525]\n",
      " [-1.75662522  0.84463262]\n",
      " [ 0.27721986  0.85290153]\n",
      " [ 0.1945996   1.31063772]\n",
      " [ 1.5438436  -0.52904802]\n",
      " [-0.6564723  -0.2015057 ]\n",
      " [-0.70061583  0.68713795]\n",
      " [-0.02607576 -0.82975832]\n",
      " [ 0.29655378 -0.3126795 ]\n",
      " [-0.61130127 -0.8217515 ]\n",
      " [ 0.8971227   0.13607861]\n",
      " [-0.2586548   1.11076564]\n",
      " [-0.18842439 -0.04148929]\n",
      " [-0.98479191 -1.35228176]\n",
      " [ 0.19432385  0.26723935]\n",
      " [-0.4264737   1.44773506]\n",
      " [-0.1963061   1.51814514]\n",
      " [ 0.07722188 -0.06399132]\n",
      " [ 0.94592341  1.20409101]\n",
      " [-0.45124074 -1.58744651]\n",
      " [-1.86885548  0.10037737]\n",
      " [-3.09487059  3.39351678]\n",
      " [-0.12666878 -0.93713026]\n",
      " [ 0.56552529  0.3158975 ]\n",
      " [-0.79572225  0.50507572]\n",
      " [ 0.32482413  0.9608153 ]\n",
      " [ 0.03026866  0.57605275]\n",
      " [-0.06992037  0.64549479]\n",
      " [-0.6055902   1.7392511 ]\n",
      " [ 0.71150415 -0.17065005]\n",
      " [ 0.80013002  0.67775509]\n",
      " [-0.95042859 -0.05707663]\n",
      " [ 0.35951076  0.52294566]\n",
      " [-0.91395899 -0.5849493 ]\n",
      " [-0.58392371 -0.00718163]\n",
      " [-1.94296661 -0.22020228]\n",
      " [-1.57051763 -0.18626694]\n",
      " [ 0.26641671 -0.60911546]\n",
      " [-1.08081421  1.56980823]\n",
      " [-0.09154531 -0.89693179]\n",
      " [ 1.1333561   1.72204708]\n",
      " [ 0.60937818  0.59035144]\n",
      " [-0.63494634  1.86288956]\n",
      " [-0.86981234 -0.7845174 ]\n",
      " [-0.40770661  1.05300095]\n",
      " [-0.63826851  2.27524041]\n",
      " [ 1.81736488 -0.06234086]\n",
      " [ 0.2514009   0.08307722]\n",
      " [ 0.3624901  -0.08513676]\n",
      " [ 0.88362772 -1.99209358]\n",
      " [-0.06006686 -0.78300288]\n",
      " [-1.61362345 -1.79700031]\n",
      " [-0.30580245  0.6699217 ]\n",
      " [ 1.40285445 -0.92855401]\n",
      " [ 0.2746082  -1.53012936]\n",
      " [ 1.1525868  -0.90339845]\n",
      " [ 0.18562837  0.20523546]\n",
      " [ 0.47999864  1.14400124]\n",
      " [-0.61018417  0.28344184]\n",
      " [ 1.43205965 -0.41185556]\n",
      " [ 3.21727605 -1.11492761]\n",
      " [-0.65839715  0.37358387]\n",
      " [-1.12816978 -0.14848126]\n",
      " [-1.18259007 -0.70978158]\n",
      " [-2.76013122  0.28307631]\n",
      " [ 1.08781536  0.10749633]\n",
      " [-0.20827423 -0.6666026 ]\n",
      " [-0.65488741  1.43422229]\n",
      " [-0.35265422 -1.01667006]\n",
      " [ 0.61355883 -0.18229069]\n",
      " [ 0.31415839  0.8786719 ]\n",
      " [-0.4270674   0.92038047]\n",
      " [ 1.0381158   0.45042725]\n",
      " [ 2.06085987  0.44068633]\n",
      " [-1.65524261  1.63485408]\n",
      " [ 0.73931846 -1.05656627]\n",
      " [ 0.16741132  1.14134383]\n",
      " [-1.27241741 -0.30671647]\n",
      " [ 1.76745639 -0.78762272]\n",
      " [ 0.78590233 -0.37198983]\n",
      " [ 1.01149733  0.28176446]\n",
      " [-0.48816932  0.2558341 ]\n",
      " [ 0.07928801  1.31558859]\n",
      " [ 0.077067   -1.02846734]\n",
      " [-1.14042154  0.72916225]\n",
      " [-0.79402126  0.33129785]\n",
      " [ 1.50994626 -1.42086903]\n",
      " [-0.78181666 -0.45680416]\n",
      " [ 0.36770381 -1.51645727]\n",
      " [ 0.20567677  0.38795807]\n",
      " [-1.33227093  1.37288101]\n",
      " [-1.74410198 -1.7043582 ]\n",
      " [ 0.98157291 -0.54010608]\n",
      " [ 0.72500074 -0.00684581]\n",
      " [-0.24784024 -1.68794578]\n",
      " [-0.9982047   1.84611482]\n",
      " [ 1.15774281  0.22704513]\n",
      " [ 0.46008133 -1.05890454]\n",
      " [-0.29809086  0.49699372]\n",
      " [-3.19551031 -0.06326281]\n",
      " [ 0.81190381 -1.45728621]\n",
      " [-0.30183891 -1.06939499]\n",
      " [ 1.34234298  1.76820729]\n",
      " [ 2.11748125  1.71894417]\n",
      " [-0.71836405  0.66345669]\n",
      " [ 0.00756973  0.4644933 ]\n",
      " [ 1.19731872 -0.0309312 ]\n",
      " [ 1.01688953 -0.62561794]\n",
      " [ 1.18226906  0.62392419]\n",
      " [-0.1440877  -0.94127186]\n",
      " [-0.03746514 -0.05318471]\n",
      " [ 1.14383114  1.66721599]\n",
      " [-1.08490992 -0.09249701]\n",
      " [ 0.78844293 -0.72438629]\n",
      " [ 1.56387329  1.67766373]\n",
      " [-0.76889304 -1.17013219]\n",
      " [-1.87736491 -1.80069972]\n",
      " [-0.3471399  -0.1339594 ]\n",
      " [ 0.34815313  0.42872249]\n",
      " [-1.51383439  0.10223565]\n",
      " [ 1.10436043  0.52445481]\n",
      " [-1.06162664 -0.38551802]\n",
      " [ 0.5733233   1.50511006]\n",
      " [-0.25309689 -0.36640501]\n",
      " [ 0.66977885 -0.12250157]\n",
      " [-0.19165873  0.07662133]\n",
      " [ 0.07754306 -1.28157729]\n",
      " [-0.76545995  0.83912082]\n",
      " [-0.94648591 -0.0447278 ]\n",
      " [ 0.04821128  1.79901601]\n",
      " [-0.1452631   0.05639254]\n",
      " [-0.05496581 -0.05234664]\n",
      " [-0.46635391 -0.60108625]\n",
      " [-0.00892253 -1.51464459]\n",
      " [-0.30315528  0.98536624]\n",
      " [ 0.07622448 -0.4988214 ]\n",
      " [-1.77965815 -1.06928591]\n",
      " [-1.53487739 -0.34828404]\n",
      " [-0.82079901 -0.49140864]\n",
      " [ 0.83423064  0.43921063]\n",
      " [ 0.53149007  1.74936573]\n",
      " [ 0.65007974 -0.25848424]\n",
      " [-1.11796013  0.57770803]\n",
      " [-0.4048947  -1.33576271]\n",
      " [ 0.90869883 -0.16894985]\n",
      " [ 1.85873986  0.53614166]\n",
      " [-0.28761526  0.37506553]\n",
      " [-2.13957768 -0.61862413]\n",
      " [-0.0251938  -1.11320905]\n",
      " [ 0.56626504 -2.89257118]\n",
      " [ 1.49605416 -0.98697274]\n",
      " [ 0.97853734 -1.82614703]\n",
      " [-1.42578869 -0.69306135]\n",
      " [ 0.59797564 -0.45060595]\n",
      " [ 0.04300681 -1.05509697]\n",
      " [-0.05701543  1.22097618]\n",
      " [-0.27664196  1.36635207]\n",
      " [-0.32111397 -0.83079009]\n",
      " [ 0.85681209 -0.01170607]\n",
      " [ 0.53129674 -0.4981676 ]\n",
      " [ 0.75740043 -0.22439495]\n",
      " [ 1.63141661 -1.62667033]\n",
      " [ 1.38442492  0.12433838]\n",
      " [ 1.72031466 -0.75485563]\n",
      " [ 1.10673834  0.63516146]\n",
      " [-0.14739776  0.16501657]\n",
      " [-1.08796374  1.04715056]\n",
      " [ 0.99472831 -0.60988664]\n",
      " [ 0.31036995 -1.83067889]\n",
      " [ 0.45771101  1.68773075]\n",
      " [-1.88847308  0.63993696]\n",
      " [-0.47034689  0.76475607]\n",
      " [ 1.05771168  0.60296249]\n",
      " [-0.67412356 -1.75322333]\n",
      " [ 0.20107803 -1.86097928]\n",
      " [-1.15913026  0.54285438]\n",
      " [ 0.20274054  0.00438739]\n",
      " [ 0.52038823 -1.01155875]\n",
      " [ 0.25921793 -0.11239171]\n",
      " [-1.28286782 -0.05496918]\n",
      " [-0.65811084  0.98256986]\n",
      " [ 0.76330799 -0.16169445]\n",
      " [ 2.73504983  0.52129362]\n",
      " [ 0.0796555   0.47571777]\n",
      " [ 0.8749226   0.63443095]\n",
      " [-0.32369044 -0.21097634]\n",
      " [ 1.25765191 -1.39800815]\n",
      " [-1.42917474  0.74170627]\n",
      " [-0.73234314 -0.19032107]\n",
      " [ 1.5333182  -0.55835253]\n",
      " [-0.41210171 -0.66320555]]\n",
      "=====================================\n",
      "[1 0 1 1 1 1 1 1 0 0 0 1 0 0 1 1 1 1 1 1 1 1 0 1 0 0 1 0 0 0 0 1 1 1 1 1 1\n",
      " 0 1 1 1 1 1 1 0 0 1 0 1 0 1 0 1 1 0 0 1 1 0 1 0 1 0 0 0 1 0 1 0 0 1 1 0 0\n",
      " 1 1 0 1 1 1 1 1 0 0 0 1 0 0 1 1 1 0 1 0 1 0 1 0 1 0 0 1 1 0 0 1 1 1 0 0 1\n",
      " 0 0 1 1 1 1 0 1 1 0 1 1 0 0 0 1 1 0 1 1 0 1 1 1 0 1 1 0 1 1 1 0 1 1 0 0 1\n",
      " 1 0 1 0 0 1 0 1 0 1 0 0 0 0 1 1 1 0 1 1 1 1 0 0 0 0 1 0 1 0 0 0 1 1 0 0 0\n",
      " 1 1 1 0 1 1 0 1 1 1 0 0 1 0 1]\n"
     ]
    }
   ],
   "source": [
    "print(x)\n",
    "print(\"=====================================\")\n",
    "print(y)"
   ]
  },
  {
   "cell_type": "code",
   "execution_count": 64,
   "metadata": {},
   "outputs": [
    {
     "data": {
      "image/png": "[encoded data removed]",
      "text/plain": [
       "<matplotlib.figure.Figure at 0xbeb2cf8>"
      ]
     },
     "metadata": {},
     "output_type": "display_data"
    }
   ],
   "source": [
    "plt.scatter(x[y==0,0],x[y==0,1],color=\"red\")\n",
    "plt.scatter(x[y==1,0],x[y==1,1],color=\"blue\")\n",
    "plt.show()"
   ]
  },
  {
   "cell_type": "markdown",
   "metadata": {},
   "source": [
    "# 使用逻辑回归"
   ]
  },
  {
   "cell_type": "code",
   "execution_count": 65,
   "metadata": {
    "collapsed": true
   },
   "outputs": [],
   "source": [
    "import sys\n",
    "sys.path.append(\"F:/PYCode\")####假如模块搜索的路径\n",
    "from machine_learning.model_selection import train_test_split\n",
    "from machine_learning.LogisticRegression import LogisticRegression\n"
   ]
  },
  {
   "cell_type": "code",
   "execution_count": 66,
   "metadata": {},
   "outputs": [
    {
     "data": {
      "text/plain": [
       "LogisticRegression()"
      ]
     },
     "execution_count": 66,
     "metadata": {},
     "output_type": "execute_result"
    }
   ],
   "source": [
    "log_reg = LogisticRegression()\n",
    "log_reg.fit(x, y)"
   ]
  },
  {
   "cell_type": "code",
   "execution_count": 67,
   "metadata": {},
   "outputs": [
    {
     "data": {
      "text/plain": [
       "0.605"
      ]
     },
     "execution_count": 67,
     "metadata": {},
     "output_type": "execute_result"
    }
   ],
   "source": [
    "log_reg.score(x,y)"
   ]
  },
  {
   "cell_type": "code",
   "execution_count": 68,
   "metadata": {
    "collapsed": true
   },
   "outputs": [],
   "source": [
    "def plot_decision_boundary(model,axis):\n",
    "    x0,x1=np.meshgrid(\n",
    "        np.linspace(axis[0],axis[1],int((axis[1]-axis[0])*100)) ,\n",
    "        np.linspace(axis[2],axis[3],int((axis[3]-axis[2])*100))\n",
    "    )\n",
    "    x_new=np.c_[x0.ravel(),x1.ravel()]\n",
    "    \n",
    "    y_predict=model.predict(x_new)\n",
    "    zz=y_predict.reshape(x0.shape)\n",
    "    \n",
    "    from matplotlib.colors import ListedColormap\n",
    "    custom_cmap=ListedColormap(['#EF9A9A','#FFF59D','#90CAF9'])\n",
    "    \n",
    "    plt.contourf(x0,x1,zz,linewidth=5,cmap=custom_cmap)"
   ]
  },
  {
   "cell_type": "code",
   "execution_count": 69,
   "metadata": {},
   "outputs": [
    {
     "name": "stderr",
     "output_type": "stream",
     "text": [
      "C:\\ProgramData\\Anaconda3\\lib\\site-packages\\matplotlib\\contour.py:967: UserWarning: The following kwargs were not used by contour: 'linewidth'\n",
      "  s)\n"
     ]
    },
    {
     "data": {
      "image/png": "[encoded data removed]",
      "text/plain": [
       "<matplotlib.figure.Figure at 0x8b6f710>"
      ]
     },
     "metadata": {},
     "output_type": "display_data"
    }
   ],
   "source": [
    "plot_decision_boundary(log_reg,axis = (-4,4,-4,4))\n",
    "plt.scatter(x[y==0,0],x[y==0,1],color=\"red\")\n",
    "plt.scatter(x[y==1,0],x[y==1,1],color=\"blue\")\n",
    "plt.show()"
   ]
  },
  {
   "cell_type": "code",
   "execution_count": 70,
   "metadata": {
    "collapsed": true
   },
   "outputs": [],
   "source": [
    "from sklearn.model_selection import train_test_split\n",
    "x_train,x_test,y_train,y_test=train_test_split(x,y,random_state=666)"
   ]
  },
  {
   "cell_type": "code",
   "execution_count": 71,
   "metadata": {
    "collapsed": true
   },
   "outputs": [],
   "source": [
    "from sklearn.preprocessing import PolynomialFeatures\n",
    "from sklearn.pipeline import Pipeline\n",
    "from sklearn.preprocessing import StandardScaler\n",
    "from sklearn.pipeline import Pipeline#########管道  方便使用多项式特征\n",
    "\n",
    "def PolynomialLogistRegression(degree):\n",
    "    return Pipeline([\n",
    "        ('poly',PolynomialFeatures(degree=degree)),\n",
    "        ('std_scaler',StandardScaler()),\n",
    "        ('log_reg',LogisticRegression())\n",
    "    ]\n",
    "    )"
   ]
  },
  {
   "cell_type": "code",
   "execution_count": 72,
   "metadata": {},
   "outputs": [
    {
     "data": {
      "text/plain": [
       "Pipeline(memory=None,\n",
       "     steps=[('poly', PolynomialFeatures(degree=2, include_bias=True, interaction_only=False)), ('std_scaler', StandardScaler(copy=True, with_mean=True, with_std=True)), ('log_reg', LogisticRegression())])"
      ]
     },
     "execution_count": 72,
     "metadata": {},
     "output_type": "execute_result"
    }
   ],
   "source": [
    "poly_log_reg=PolynomialLogistRegression(degree=2)\n",
    "poly_log_reg.fit(x,y)"
   ]
  },
  {
   "cell_type": "code",
   "execution_count": 73,
   "metadata": {},
   "outputs": [
    {
     "data": {
      "text/plain": [
       "0.95"
      ]
     },
     "execution_count": 73,
     "metadata": {},
     "output_type": "execute_result"
    }
   ],
   "source": [
    "poly_log_reg.score(x,y)"
   ]
  },
  {
   "cell_type": "code",
   "execution_count": 74,
   "metadata": {},
   "outputs": [
    {
     "name": "stderr",
     "output_type": "stream",
     "text": [
      "C:\\ProgramData\\Anaconda3\\lib\\site-packages\\matplotlib\\contour.py:967: UserWarning: The following kwargs were not used by contour: 'linewidth'\n",
      "  s)\n"
     ]
    },
    {
     "data": {
      "image/png": "[encoded data removed]",
      "text/plain": [
       "<matplotlib.figure.Figure at 0xbe3df98>"
      ]
     },
     "metadata": {},
     "output_type": "display_data"
    }
   ],
   "source": [
    "plot_decision_boundary(poly_log_reg,axis = (-4,4,-4,4))\n",
    "plt.scatter(x[y==0,0],x[y==0,1],color=\"red\")\n",
    "plt.scatter(x[y==1,0],x[y==1,1],color=\"blue\")\n",
    "plt.show()"
   ]
  },
  {
   "cell_type": "code",
   "execution_count": 75,
   "metadata": {},
   "outputs": [
    {
     "data": {
      "text/plain": [
       "Pipeline(memory=None,\n",
       "     steps=[('poly', PolynomialFeatures(degree=20, include_bias=True, interaction_only=False)), ('std_scaler', StandardScaler(copy=True, with_mean=True, with_std=True)), ('log_reg', LogisticRegression())])"
      ]
     },
     "execution_count": 75,
     "metadata": {},
     "output_type": "execute_result"
    }
   ],
   "source": [
    "poly_log_reg2=PolynomialLogistRegression(degree=20)\n",
    "poly_log_reg2.fit(x,y)"
   ]
  },
  {
   "cell_type": "code",
   "execution_count": null,
   "metadata": {
    "collapsed": true
   },
   "outputs": [],
   "source": [
    "plot_decision_boundary(poly_log_reg2,axis = [-4,4,-4,4])\n",
    "plt.scatter(x[y==0,0],x[y==0,1])\n",
    "plt.scatter(x[y==1,0],x[y==1,1])\n",
    "plt.show()"
   ]
  },
  {
   "cell_type": "code",
   "execution_count": null,
   "metadata": {
    "collapsed": true
   },
   "outputs": [],
   "source": []
  },
  {
   "cell_type": "markdown",
   "metadata": {},
   "source": [
    "###  使用scikit-learn中的逻辑回归"
   ]
  },
  {
   "cell_type": "code",
   "execution_count": 19,
   "metadata": {},
   "outputs": [
    {
     "data": {
      "text/plain": [
       "LogisticRegression(C=1.0, class_weight=None, dual=False, fit_intercept=True,\n",
       "          intercept_scaling=1, max_iter=100, multi_class='ovr', n_jobs=1,\n",
       "          penalty='l2', random_state=None, solver='liblinear', tol=0.0001,\n",
       "          verbose=0, warm_start=False)"
      ]
     },
     "execution_count": 19,
     "metadata": {},
     "output_type": "execute_result"
    }
   ],
   "source": [
    "from sklearn.linear_model import   LogisticRegression\n",
    " \n",
    "log_reg=LogisticRegression()\n",
    "log_reg.fit(x_train,y_train)#############penalty='l2  :默认使用L2"
   ]
  },
  {
   "cell_type": "code",
   "execution_count": 20,
   "metadata": {},
   "outputs": [
    {
     "data": {
      "text/plain": [
       "0.6666666666666666"
      ]
     },
     "execution_count": 20,
     "metadata": {},
     "output_type": "execute_result"
    }
   ],
   "source": [
    "log_reg.score(x_train,y_train)#############训练数据集上的得到的模拟的结果"
   ]
  },
  {
   "cell_type": "code",
   "execution_count": 21,
   "metadata": {
    "collapsed": true
   },
   "outputs": [],
   "source": [
    "def plot_decision_boundary(model,axis):\n",
    "    x0,x1=np.meshgrid(\n",
    "        np.linspace(axis[0],axis[1],int((axis[1]-axis[0])*100)) ,\n",
    "        np.linspace(axis[2],axis[3],int((axis[3]-axis[2])*100))\n",
    "    )\n",
    "    x_new=np.c_[x0.ravel(),x1.ravel()]\n",
    "    \n",
    "    y_predict=model.predict(x_new)\n",
    "    zz=y_predict.reshape(x0.shape)\n",
    "    \n",
    "    from matplotlib.colors import ListedColormap\n",
    "    custom_cmap=ListedColormap(['#EF9A9A','#FFF59D','#90CAF9'])\n",
    "    \n",
    "    plt.contourf(x0,x1,zz,linewidth=5,cmap=custom_cmap)"
   ]
  },
  {
   "cell_type": "code",
   "execution_count": 22,
   "metadata": {},
   "outputs": [
    {
     "name": "stderr",
     "output_type": "stream",
     "text": [
      "C:\\ProgramData\\Anaconda3\\lib\\site-packages\\matplotlib\\contour.py:967: UserWarning: The following kwargs were not used by contour: 'linewidth'\n",
      "  s)\n"
     ]
    },
    {
     "data": {
      "image/png": "[encoded data removed]",
      "text/plain": [
       "<matplotlib.figure.Figure at 0xad186d8>"
      ]
     },
     "metadata": {},
     "output_type": "display_data"
    }
   ],
   "source": [
    "plot_decision_boundary(log_reg,axis=[-4,4,-4,4]) ####使用逻辑回归线性模型\n",
    "plt.scatter(x[y==0,0],x[y==0,1])\n",
    "plt.scatter(x[y==1,0],x[y==1,1])\n",
    "plt.show()"
   ]
  },
  {
   "cell_type": "code",
   "execution_count": 23,
   "metadata": {
    "collapsed": true
   },
   "outputs": [],
   "source": [
    "from sklearn.preprocessing import PolynomialFeatures\n",
    "from sklearn.pipeline import Pipeline\n",
    "from sklearn.preprocessing import StandardScaler\n",
    "\n",
    "def PolynomialLogistRegression(degree):\n",
    "    return Pipeline([\n",
    "        ('poly',PolynomialFeatures(degree=degree)),\n",
    "        ('std_scaler',StandardScaler()),\n",
    "        ('log_reg',LogisticRegression())\n",
    "    ]\n",
    "    )"
   ]
  },
  {
   "cell_type": "code",
   "execution_count": 24,
   "metadata": {},
   "outputs": [
    {
     "data": {
      "text/plain": [
       "Pipeline(memory=None,\n",
       "     steps=[('poly', PolynomialFeatures(degree=2, include_bias=True, interaction_only=False)), ('std_scaler', StandardScaler(copy=True, with_mean=True, with_std=True)), ('log_reg', LogisticRegression(C=1.0, class_weight=None, dual=False, fit_intercept=True,\n",
       "          intercept_scaling=1, max_iter=100, multi_class='ovr', n_jobs=1,\n",
       "          penalty='l2', random_state=None, solver='liblinear', tol=0.0001,\n",
       "          verbose=0, warm_start=False))])"
      ]
     },
     "execution_count": 24,
     "metadata": {},
     "output_type": "execute_result"
    }
   ],
   "source": [
    "poly_log_reg=PolynomialLogistRegression(degree=2)\n",
    "poly_log_reg.fit(x_train,y_train)"
   ]
  },
  {
   "cell_type": "code",
   "execution_count": 25,
   "metadata": {},
   "outputs": [
    {
     "data": {
      "text/plain": [
       "0.9733333333333334"
      ]
     },
     "execution_count": 25,
     "metadata": {},
     "output_type": "execute_result"
    }
   ],
   "source": [
    "poly_log_reg.score(x_train,y_train)"
   ]
  },
  {
   "cell_type": "code",
   "execution_count": 26,
   "metadata": {},
   "outputs": [
    {
     "data": {
      "text/plain": [
       "0.96"
      ]
     },
     "execution_count": 26,
     "metadata": {},
     "output_type": "execute_result"
    }
   ],
   "source": [
    "poly_log_reg.score(x_test,y_test)"
   ]
  },
  {
   "cell_type": "code",
   "execution_count": 27,
   "metadata": {},
   "outputs": [
    {
     "name": "stderr",
     "output_type": "stream",
     "text": [
      "C:\\ProgramData\\Anaconda3\\lib\\site-packages\\matplotlib\\contour.py:967: UserWarning: The following kwargs were not used by contour: 'linewidth'\n",
      "  s)\n"
     ]
    },
    {
     "data": {
      "image/png": "[encoded data removed]",
      "text/plain": [
       "<matplotlib.figure.Figure at 0xb3955c0>"
      ]
     },
     "metadata": {},
     "output_type": "display_data"
    }
   ],
   "source": [
    "plot_decision_boundary(poly_log_reg,axis=[-4,4,-4,4]) ####使用逻辑回归线性模型\n",
    "plt.scatter(x[y==0,0],x[y==0,1])\n",
    "plt.scatter(x[y==1,0],x[y==1,1])\n",
    "plt.show()"
   ]
  },
  {
   "cell_type": "code",
   "execution_count": 28,
   "metadata": {},
   "outputs": [
    {
     "data": {
      "text/plain": [
       "Pipeline(memory=None,\n",
       "     steps=[('poly', PolynomialFeatures(degree=20, include_bias=True, interaction_only=False)), ('std_scaler', StandardScaler(copy=True, with_mean=True, with_std=True)), ('log_reg', LogisticRegression(C=1.0, class_weight=None, dual=False, fit_intercept=True,\n",
       "          intercept_scaling=1, max_iter=100, multi_class='ovr', n_jobs=1,\n",
       "          penalty='l2', random_state=None, solver='liblinear', tol=0.0001,\n",
       "          verbose=0, warm_start=False))])"
      ]
     },
     "execution_count": 28,
     "metadata": {},
     "output_type": "execute_result"
    }
   ],
   "source": [
    "poly_log_reg2=PolynomialLogistRegression(degree=20)\n",
    "poly_log_reg2.fit(x_train,y_train)"
   ]
  },
  {
   "cell_type": "code",
   "execution_count": 29,
   "metadata": {},
   "outputs": [
    {
     "data": {
      "text/plain": [
       "0.9666666666666667"
      ]
     },
     "execution_count": 29,
     "metadata": {},
     "output_type": "execute_result"
    }
   ],
   "source": [
    "poly_log_reg2.score(x_train,y_train)"
   ]
  },
  {
   "cell_type": "code",
   "execution_count": 30,
   "metadata": {},
   "outputs": [
    {
     "data": {
      "text/plain": [
       "0.96"
      ]
     },
     "execution_count": 30,
     "metadata": {},
     "output_type": "execute_result"
    }
   ],
   "source": [
    "poly_log_reg2.score(x_test,y_test)"
   ]
  },
  {
   "cell_type": "code",
   "execution_count": 31,
   "metadata": {},
   "outputs": [
    {
     "name": "stderr",
     "output_type": "stream",
     "text": [
      "C:\\ProgramData\\Anaconda3\\lib\\site-packages\\matplotlib\\contour.py:967: UserWarning: The following kwargs were not used by contour: 'linewidth'\n",
      "  s)\n"
     ]
    },
    {
     "data": {
      "image/png": "[encoded data removed]",
      "text/plain": [
       "<matplotlib.figure.Figure at 0xb336e48>"
      ]
     },
     "metadata": {},
     "output_type": "display_data"
    }
   ],
   "source": [
    "plot_decision_boundary(poly_log_reg2,axis=[-4,4,-4,4]) ####使用逻辑回归线性模型\n",
    "plt.scatter(x[y==0,0],x[y==0,1])\n",
    "plt.scatter(x[y==1,0],x[y==1,1])\n",
    "plt.show()"
   ]
  },
  {
   "cell_type": "code",
   "execution_count": 32,
   "metadata": {
    "collapsed": true
   },
   "outputs": [],
   "source": [
    "def PolynomialLogistRegression(degree,C):\n",
    "    return Pipeline([\n",
    "        ('poly',PolynomialFeatures(degree=degree)),\n",
    "        ('std_scaler',StandardScaler()),\n",
    "        ('log_reg',LogisticRegression(C=C))\n",
    "    ]\n",
    "    )"
   ]
  },
  {
   "cell_type": "code",
   "execution_count": 33,
   "metadata": {},
   "outputs": [
    {
     "data": {
      "text/plain": [
       "Pipeline(memory=None,\n",
       "     steps=[('poly', PolynomialFeatures(degree=20, include_bias=True, interaction_only=False)), ('std_scaler', StandardScaler(copy=True, with_mean=True, with_std=True)), ('log_reg', LogisticRegression(C=0.1, class_weight=None, dual=False, fit_intercept=True,\n",
       "          intercept_scaling=1, max_iter=100, multi_class='ovr', n_jobs=1,\n",
       "          penalty='l2', random_state=None, solver='liblinear', tol=0.0001,\n",
       "          verbose=0, warm_start=False))])"
      ]
     },
     "execution_count": 33,
     "metadata": {},
     "output_type": "execute_result"
    }
   ],
   "source": [
    "poly_log_reg3=PolynomialLogistRegression(degree=20,C=0.1)\n",
    "poly_log_reg3.fit(x_train,y_train)"
   ]
  },
  {
   "cell_type": "code",
   "execution_count": 34,
   "metadata": {},
   "outputs": [
    {
     "data": {
      "text/plain": [
       "0.8933333333333333"
      ]
     },
     "execution_count": 34,
     "metadata": {},
     "output_type": "execute_result"
    }
   ],
   "source": [
    "poly_log_reg3.score(x_train,y_train)"
   ]
  },
  {
   "cell_type": "code",
   "execution_count": 35,
   "metadata": {},
   "outputs": [
    {
     "data": {
      "text/plain": [
       "0.9"
      ]
     },
     "execution_count": 35,
     "metadata": {},
     "output_type": "execute_result"
    }
   ],
   "source": [
    "poly_log_reg3.score(x_test,y_test)"
   ]
  },
  {
   "cell_type": "code",
   "execution_count": 36,
   "metadata": {},
   "outputs": [
    {
     "name": "stderr",
     "output_type": "stream",
     "text": [
      "C:\\ProgramData\\Anaconda3\\lib\\site-packages\\matplotlib\\contour.py:967: UserWarning: The following kwargs were not used by contour: 'linewidth'\n",
      "  s)\n"
     ]
    },
    {
     "data": {
      "image/png": "[encoded data removed]",
      "text/plain": [
       "<matplotlib.figure.Figure at 0x8849320>"
      ]
     },
     "metadata": {},
     "output_type": "display_data"
    }
   ],
   "source": [
    "plot_decision_boundary(poly_log_reg3,axis=[-4,4,-4,4]) ####使用逻辑回归线性模型\n",
    "plt.scatter(x[y==0,0],x[y==0,1])\n",
    "plt.scatter(x[y==1,0],x[y==1,1])\n",
    "plt.show()"
   ]
  },
  {
   "cell_type": "code",
   "execution_count": 37,
   "metadata": {
    "collapsed": true
   },
   "outputs": [],
   "source": [
    "def PolynomialLogistRegression(degree,C,penalty='l2'):\n",
    "    return Pipeline([\n",
    "        ('poly',PolynomialFeatures(degree=degree)),\n",
    "        ('std_scaler',StandardScaler()),\n",
    "        ('log_reg',LogisticRegression(C=C,penalty=penalty))\n",
    "    ]\n",
    "    )"
   ]
  },
  {
   "cell_type": "code",
   "execution_count": 38,
   "metadata": {},
   "outputs": [
    {
     "data": {
      "text/plain": [
       "Pipeline(memory=None,\n",
       "     steps=[('poly', PolynomialFeatures(degree=20, include_bias=True, interaction_only=False)), ('std_scaler', StandardScaler(copy=True, with_mean=True, with_std=True)), ('log_reg', LogisticRegression(C=0.1, class_weight=None, dual=False, fit_intercept=True,\n",
       "          intercept_scaling=1, max_iter=100, multi_class='ovr', n_jobs=1,\n",
       "          penalty='l1', random_state=None, solver='liblinear', tol=0.0001,\n",
       "          verbose=0, warm_start=False))])"
      ]
     },
     "execution_count": 38,
     "metadata": {},
     "output_type": "execute_result"
    }
   ],
   "source": [
    "poly_log_reg4=PolynomialLogistRegression(degree=20,C=0.1,penalty='l1')\n",
    "poly_log_reg4.fit(x_train,y_train)"
   ]
  },
  {
   "cell_type": "code",
   "execution_count": 39,
   "metadata": {},
   "outputs": [
    {
     "data": {
      "text/plain": [
       "0.9"
      ]
     },
     "execution_count": 39,
     "metadata": {},
     "output_type": "execute_result"
    }
   ],
   "source": [
    "poly_log_reg4.score(x_train,y_train)"
   ]
  },
  {
   "cell_type": "code",
   "execution_count": 40,
   "metadata": {},
   "outputs": [
    {
     "data": {
      "text/plain": [
       "0.92"
      ]
     },
     "execution_count": 40,
     "metadata": {},
     "output_type": "execute_result"
    }
   ],
   "source": [
    "poly_log_reg4.score(x_test,y_test)"
   ]
  },
  {
   "cell_type": "code",
   "execution_count": 41,
   "metadata": {},
   "outputs": [
    {
     "name": "stderr",
     "output_type": "stream",
     "text": [
      "C:\\ProgramData\\Anaconda3\\lib\\site-packages\\matplotlib\\contour.py:967: UserWarning: The following kwargs were not used by contour: 'linewidth'\n",
      "  s)\n"
     ]
    },
    {
     "data": {
      "image/png": "[encoded data removed]",
      "text/plain": [
       "<matplotlib.figure.Figure at 0xb394a58>"
      ]
     },
     "metadata": {},
     "output_type": "display_data"
    }
   ],
   "source": [
    "plot_decision_boundary(poly_log_reg4,axis=[-4,4,-4,4]) ####使用逻辑回归线性模型\n",
    "plt.scatter(x[y==0,0],x[y==0,1])\n",
    "plt.scatter(x[y==1,0],x[y==1,1])\n",
    "plt.show()"
   ]
  },
  {
   "cell_type": "code",
   "execution_count": null,
   "metadata": {
    "collapsed": true
   },
   "outputs": [],
   "source": []
  }
 ],
 "metadata": {
  "kernelspec": {
   "display_name": "Python 3",
   "language": "python",
   "name": "python3"
  },
  "language_info": {
   "codemirror_mode": {
    "name": "ipython",
    "version": 3
   },
   "file_extension": ".py",
   "mimetype": "text/x-python",
   "name": "python",
   "nbconvert_exporter": "python",
   "pygments_lexer": "ipython3",
   "version": "3.6.2"
  }
 },
 "nbformat": 4,
 "nbformat_minor": 2
}
