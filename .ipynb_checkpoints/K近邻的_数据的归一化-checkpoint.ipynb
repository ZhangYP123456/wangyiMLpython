{
 "cells": [
  {
   "cell_type": "markdown",
   "metadata": {},
   "source": [
    "#  最值归一化 Normalization"
   ]
  },
  {
   "cell_type": "code",
   "execution_count": 1,
   "metadata": {},
   "outputs": [],
   "source": [
    "import numpy as np\n",
    "import matplotlib\n",
    "import matplotlib.pyplot as plt"
   ]
  },
  {
   "cell_type": "code",
   "execution_count": 2,
   "metadata": {},
   "outputs": [],
   "source": [
    "x = np.random.randint(0,100,size=100)"
   ]
  },
  {
   "cell_type": "code",
   "execution_count": 3,
   "metadata": {},
   "outputs": [
    {
     "data": {
      "text/plain": [
       "array([69, 57, 91, 79,  2,  5,  5, 57, 65, 32, 34, 23, 56, 66, 64, 81,  2,\n",
       "       57, 20,  9, 58, 72, 14,  6, 15, 54, 53,  8, 60, 54, 75, 64, 43, 13,\n",
       "       15, 40, 25,  2,  3, 54, 92, 16, 16, 45, 86, 46, 10, 96,  2, 76, 92,\n",
       "       56, 56, 43, 62, 49, 34, 37, 47, 97, 42, 13, 34,  4, 82, 41, 77, 17,\n",
       "       60, 56, 34, 76, 35, 10, 71, 14, 81, 26, 81, 22, 18, 64, 27, 14, 53,\n",
       "       89, 64, 32, 90, 22, 48, 87, 63, 95, 52, 46, 88, 78,  0, 95])"
      ]
     },
     "execution_count": 3,
     "metadata": {},
     "output_type": "execute_result"
    }
   ],
   "source": [
    "x"
   ]
  },
  {
   "cell_type": "code",
   "execution_count": 4,
   "metadata": {},
   "outputs": [
    {
     "data": {
      "text/plain": [
       "array([0.71134021, 0.58762887, 0.93814433, 0.81443299, 0.02061856,\n",
       "       0.05154639, 0.05154639, 0.58762887, 0.67010309, 0.32989691,\n",
       "       0.35051546, 0.2371134 , 0.57731959, 0.68041237, 0.65979381,\n",
       "       0.83505155, 0.02061856, 0.58762887, 0.20618557, 0.09278351,\n",
       "       0.59793814, 0.74226804, 0.1443299 , 0.06185567, 0.15463918,\n",
       "       0.55670103, 0.54639175, 0.08247423, 0.6185567 , 0.55670103,\n",
       "       0.77319588, 0.65979381, 0.44329897, 0.13402062, 0.15463918,\n",
       "       0.41237113, 0.25773196, 0.02061856, 0.03092784, 0.55670103,\n",
       "       0.94845361, 0.16494845, 0.16494845, 0.46391753, 0.88659794,\n",
       "       0.4742268 , 0.10309278, 0.98969072, 0.02061856, 0.78350515,\n",
       "       0.94845361, 0.57731959, 0.57731959, 0.44329897, 0.63917526,\n",
       "       0.50515464, 0.35051546, 0.3814433 , 0.48453608, 1.        ,\n",
       "       0.43298969, 0.13402062, 0.35051546, 0.04123711, 0.84536082,\n",
       "       0.42268041, 0.79381443, 0.17525773, 0.6185567 , 0.57731959,\n",
       "       0.35051546, 0.78350515, 0.36082474, 0.10309278, 0.73195876,\n",
       "       0.1443299 , 0.83505155, 0.26804124, 0.83505155, 0.22680412,\n",
       "       0.18556701, 0.65979381, 0.27835052, 0.1443299 , 0.54639175,\n",
       "       0.91752577, 0.65979381, 0.32989691, 0.92783505, 0.22680412,\n",
       "       0.49484536, 0.89690722, 0.64948454, 0.97938144, 0.53608247,\n",
       "       0.4742268 , 0.90721649, 0.80412371, 0.        , 0.97938144])"
      ]
     },
     "execution_count": 4,
     "metadata": {},
     "output_type": "execute_result"
    }
   ],
   "source": [
    "(x-np.min(x))/(np.max(x)-np.min(x))"
   ]
  },
  {
   "cell_type": "code",
   "execution_count": 5,
   "metadata": {},
   "outputs": [],
   "source": [
    "x2 = np.random.randint(0,100,(50,2))"
   ]
  },
  {
   "cell_type": "code",
   "execution_count": 6,
   "metadata": {},
   "outputs": [
    {
     "data": {
      "text/plain": [
       "array([[ 4, 33],\n",
       "       [52, 65],\n",
       "       [84, 50],\n",
       "       [90, 79],\n",
       "       [16, 49],\n",
       "       [88, 41],\n",
       "       [24, 52],\n",
       "       [79, 87],\n",
       "       [17, 20],\n",
       "       [67, 56]])"
      ]
     },
     "execution_count": 6,
     "metadata": {},
     "output_type": "execute_result"
    }
   ],
   "source": [
    "x2[:10,:]"
   ]
  },
  {
   "cell_type": "code",
   "execution_count": 7,
   "metadata": {},
   "outputs": [],
   "source": [
    "X2 = np.array(x2,dtype=float)"
   ]
  },
  {
   "cell_type": "code",
   "execution_count": 8,
   "metadata": {},
   "outputs": [
    {
     "data": {
      "text/plain": [
       "array([[ 4., 33.],\n",
       "       [52., 65.],\n",
       "       [84., 50.],\n",
       "       [90., 79.],\n",
       "       [16., 49.],\n",
       "       [88., 41.],\n",
       "       [24., 52.],\n",
       "       [79., 87.],\n",
       "       [17., 20.],\n",
       "       [67., 56.]])"
      ]
     },
     "execution_count": 8,
     "metadata": {},
     "output_type": "execute_result"
    }
   ],
   "source": [
    "X2[:10,:]"
   ]
  },
  {
   "cell_type": "code",
   "execution_count": 9,
   "metadata": {},
   "outputs": [],
   "source": [
    "X2[:,0] = (X2[:,0] - np.min(X2[:,0])) / (np.max(X2[:,0])-np.min(X2[:,0]))\n",
    "X2[:,1] = (X2[:,1] - np.min(X2[:,1])) / (np.max(X2[:,1])-np.min(X2[:,1]))"
   ]
  },
  {
   "cell_type": "code",
   "execution_count": 10,
   "metadata": {},
   "outputs": [
    {
     "data": {
      "text/plain": [
       "array([[0.03225806, 0.33333333],\n",
       "       [0.5483871 , 0.66666667],\n",
       "       [0.89247312, 0.51041667],\n",
       "       [0.95698925, 0.8125    ],\n",
       "       [0.16129032, 0.5       ],\n",
       "       [0.93548387, 0.41666667],\n",
       "       [0.24731183, 0.53125   ],\n",
       "       [0.83870968, 0.89583333],\n",
       "       [0.17204301, 0.19791667],\n",
       "       [0.70967742, 0.57291667]])"
      ]
     },
     "execution_count": 10,
     "metadata": {},
     "output_type": "execute_result"
    }
   ],
   "source": [
    "X2[:10,:]"
   ]
  },
  {
   "cell_type": "code",
   "execution_count": 11,
   "metadata": {},
   "outputs": [
    {
     "data": {
      "text/plain": [
       "<matplotlib.collections.PathCollection at 0x832b850>"
      ]
     },
     "execution_count": 11,
     "metadata": {},
     "output_type": "execute_result"
    },
    {
     "data": {
      "image/png": "[encoded data removed]",
      "text/plain": [
       "<Figure size 432x288 with 1 Axes>"
      ]
     },
     "metadata": {
      "needs_background": "light"
     },
     "output_type": "display_data"
    }
   ],
   "source": [
    "plt.scatter(X2[:,0],X2[:,1])\n"
   ]
  },
  {
   "cell_type": "code",
   "execution_count": 12,
   "metadata": {},
   "outputs": [
    {
     "data": {
      "text/plain": [
       "0.4529032258064516"
      ]
     },
     "execution_count": 12,
     "metadata": {},
     "output_type": "execute_result"
    }
   ],
   "source": [
    "np.mean(X2[:,0])"
   ]
  },
  {
   "cell_type": "code",
   "execution_count": 13,
   "metadata": {},
   "outputs": [
    {
     "name": "stderr",
     "output_type": "stream",
     "text": [
      "E:\\Anaconda3\\lib\\site-packages\\numpy\\core\\_methods.py:140: RuntimeWarning: Degrees of freedom <= 0 for slice\n",
      "  keepdims=keepdims)\n",
      "E:\\Anaconda3\\lib\\site-packages\\numpy\\core\\_methods.py:110: RuntimeWarning: invalid value encountered in true_divide\n",
      "  arrmean, rcount, out=arrmean, casting='unsafe', subok=False)\n",
      "E:\\Anaconda3\\lib\\site-packages\\numpy\\core\\_methods.py:132: RuntimeWarning: invalid value encountered in double_scalars\n",
      "  ret = ret.dtype.type(ret / rcount)\n"
     ]
    },
    {
     "data": {
      "text/plain": [
       "nan"
      ]
     },
     "execution_count": 13,
     "metadata": {},
     "output_type": "execute_result"
    }
   ],
   "source": [
    "np.std(X2[:0])"
   ]
  },
  {
   "cell_type": "markdown",
   "metadata": {},
   "source": [
    "# 均值方差的归一化 Standardization"
   ]
  },
  {
   "cell_type": "code",
   "execution_count": 14,
   "metadata": {},
   "outputs": [],
   "source": [
    "y=np.random.randint(0,100,(50,2))"
   ]
  },
  {
   "cell_type": "code",
   "execution_count": 15,
   "metadata": {},
   "outputs": [],
   "source": [
    "y=np.array(y,dtype=float)"
   ]
  },
  {
   "cell_type": "code",
   "execution_count": 16,
   "metadata": {},
   "outputs": [],
   "source": [
    "y[:,0]=(y[:,0]-np.mean(y[:,0]))/np.std(y[:,0])\n",
    "y[:,1]=(y[:,1]-np.mean(y[:,1]))/np.std(y[:,1])"
   ]
  },
  {
   "cell_type": "code",
   "execution_count": 17,
   "metadata": {},
   "outputs": [
    {
     "data": {
      "text/plain": [
       "<matplotlib.collections.PathCollection at 0x87aa0b0>"
      ]
     },
     "execution_count": 17,
     "metadata": {},
     "output_type": "execute_result"
    },
    {
     "data": {
      "image/png": "[encoded data removed]",
      "text/plain": [
       "<Figure size 432x288 with 1 Axes>"
      ]
     },
     "metadata": {
      "needs_background": "light"
     },
     "output_type": "display_data"
    }
   ],
   "source": [
    "plt.scatter(y[:,0],y[:,1])"
   ]
  },
  {
   "cell_type": "code",
   "execution_count": 18,
   "metadata": {},
   "outputs": [
    {
     "data": {
      "text/plain": [
       "-8.118505867571457e-17"
      ]
     },
     "execution_count": 18,
     "metadata": {},
     "output_type": "execute_result"
    }
   ],
   "source": [
    "np.mean(y[:,0])"
   ]
  },
  {
   "cell_type": "code",
   "execution_count": 19,
   "metadata": {},
   "outputs": [
    {
     "data": {
      "text/plain": [
       "1.0"
      ]
     },
     "execution_count": 19,
     "metadata": {},
     "output_type": "execute_result"
    }
   ],
   "source": [
    "np.std(y[:,0])"
   ]
  },
  {
   "cell_type": "code",
   "execution_count": 20,
   "metadata": {},
   "outputs": [
    {
     "data": {
      "text/plain": [
       "-3.635980405647388e-17"
      ]
     },
     "execution_count": 20,
     "metadata": {},
     "output_type": "execute_result"
    }
   ],
   "source": [
    "np.mean(y[:,1])"
   ]
  },
  {
   "cell_type": "code",
   "execution_count": 21,
   "metadata": {},
   "outputs": [
    {
     "data": {
      "text/plain": [
       "0.9999999999999999"
      ]
     },
     "execution_count": 21,
     "metadata": {},
     "output_type": "execute_result"
    }
   ],
   "source": [
    "np.std(y[:,1])"
   ]
  }
 ],
 "metadata": {
  "kernelspec": {
   "display_name": "Python 3",
   "language": "python",
   "name": "python3"
  },
  "language_info": {
   "codemirror_mode": {
    "name": "ipython",
    "version": 3
   },
   "file_extension": ".py",
   "mimetype": "text/x-python",
   "name": "python",
   "nbconvert_exporter": "python",
   "pygments_lexer": "ipython3",
   "version": "3.7.0"
  }
 },
 "nbformat": 4,
 "nbformat_minor": 2
}
