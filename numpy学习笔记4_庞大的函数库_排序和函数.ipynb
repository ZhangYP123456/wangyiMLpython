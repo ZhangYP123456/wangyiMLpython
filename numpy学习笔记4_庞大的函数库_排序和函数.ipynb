{
 "cells": [
  {
   "cell_type": "markdown",
   "metadata": {},
   "source": [
    "# 庞大的函数库——大小排序"
   ]
  },
  {
   "cell_type": "markdown",
   "metadata": {},
   "source": [
    "1.min(),max():分别计算数组的最大值、最小值#####  ptp():计算最大值最小值之间的差#####  maximum():比较两个数组对应的下标的元素,返回数组的形状是量参数组广播之后的形状。\n",
    "\n",
    "2.argmax/argmin(a, axis=None, out=None)：可以求最大值最小值的下标,使用axis时可以沿着指定轴计算最大值的下标。 ravel(a, order='C'):返回一个连续的扁平数组\n",
    "\n",
    "3.unravel_index(indices, dims, order='C'):将一维数组的下标转换为多维数组的下标，第一个参数为一维数组的下标，第二个参数为多维数组的形状\n",
    "\n",
    "4.sort(a, axis=-1, kind='quicksort', order=None)：sort()函数对数组进行排序,会返回一个新数组，不改变原始数组（数组的sort（）会改变,例如列表使用sort（）排序）；\n",
    "axis默认值为-1(沿数组最终轴进行排序)，axis值为none（得到平坦化之后进行排序的新数组）,axis值为0（对每一列上进行排序）\n",
    "\n",
    "5.argsort(a, axis=-1, kind='quicksort', order=None)：范回数组的排序下标，axis默认为-1\n",
    "\n",
    "6.arange函数产生的是一维数组，而ogrid函数产生的是二维数组、、arange函数产生的是一个数组，而ogrid函数产生的是二个数组、、ogrid函数产生的数组，第一个数组是以纵向产生的，即数组第二维的大小始终为1。第二个数组是以横向产生的，即数组第一维的大小始终为1。   默认步长为1\n",
    "\n",
    "7.lexsort(keys, axis=-1):参数是一个形状为（k，N）,可以理解为Excel中N行k列的表格（传入K个长度为n的数组的序列）。返回排序下标,数组中最后的列为排列的主键。\n",
    "\n",
    "8.partition(a, kth, axis=-1, kind='introselect', order=None):对数组进行分割，可以很快找出排序之后的前k个元素，详见下面的例子。。以极大的运行速度优于sort().\n",
    "\n",
    "9.median(a, axis=None, out=None, overwrite_input=False, keepdims=False):获得数组的中间值，当长度为偶数时，则取中间两个数的平均值。\n",
    "\n",
    "10.percentile(a, q, axis=None, out=None, overwrite_input=False, interpolation='linear', keepdims=False)：用于计算八分位数，即将数值从小到大排列，计算处于p%位置上的值。"
   ]
  },
  {
   "cell_type": "code",
   "execution_count": 1,
   "metadata": {},
   "outputs": [],
   "source": [
    "import numpy as np"
   ]
  },
  {
   "cell_type": "code",
   "execution_count": 2,
   "metadata": {},
   "outputs": [],
   "source": [
    "a=np.array([1,3,5,7,9])"
   ]
  },
  {
   "cell_type": "code",
   "execution_count": 3,
   "metadata": {},
   "outputs": [],
   "source": [
    "b=np.array([2,4,6,8])"
   ]
  },
  {
   "cell_type": "code",
   "execution_count": 4,
   "metadata": {},
   "outputs": [
    {
     "name": "stdout",
     "output_type": "stream",
     "text": [
      "[[1 3 5 7 9]]\n",
      "[[2]\n",
      " [4]\n",
      " [6]\n",
      " [8]]\n"
     ]
    },
    {
     "data": {
      "text/plain": [
       "array([[2, 3, 5, 7, 9],\n",
       "       [4, 4, 5, 7, 9],\n",
       "       [6, 6, 6, 7, 9],\n",
       "       [8, 8, 8, 8, 9]])"
      ]
     },
     "execution_count": 4,
     "metadata": {},
     "output_type": "execute_result"
    }
   ],
   "source": [
    "print(a[None,:])#############    None表示切片\n",
    "print(b[:,None])\n",
    "np.maximum(a[None,:],b[:,None])"
   ]
  },
  {
   "cell_type": "code",
   "execution_count": 5,
   "metadata": {},
   "outputs": [
    {
     "name": "stdout",
     "output_type": "stream",
     "text": [
      "[[6 3 7 4 6]\n",
      " [9 2 6 7 4]\n",
      " [3 7 7 2 5]\n",
      " [4 1 7 5 1]]\n",
      "[[4 0 9 5 8]\n",
      " [0 9 2 6 3]\n",
      " [8 2 4 2 6]\n",
      " [4 8 6 1 3]]\n"
     ]
    },
    {
     "data": {
      "text/plain": [
       "2"
      ]
     },
     "execution_count": 5,
     "metadata": {},
     "output_type": "execute_result"
    }
   ],
   "source": [
    "np.random.seed(42)\n",
    "a=np.random.randint(0,10,size=(4,5))\n",
    "print(a)\n",
    "ma=np.argmax(a)\n",
    "a=np.random.randint(0,10,size=(4,5))\n",
    "print(a)\n",
    "ma=np.argmax(a)\n",
    "ma"
   ]
  },
  {
   "cell_type": "code",
   "execution_count": 6,
   "metadata": {},
   "outputs": [
    {
     "name": "stdout",
     "output_type": "stream",
     "text": [
      "[4 0 9 5 8 0 9 2 6 3 8 2 4 2 6 4 8 6 1 3]\n"
     ]
    }
   ],
   "source": [
    "print(np.ravel(a,order='K'))\n"
   ]
  },
  {
   "cell_type": "code",
   "execution_count": 7,
   "metadata": {},
   "outputs": [
    {
     "data": {
      "text/plain": [
       "array([2, 1, 0, 1], dtype=int64)"
      ]
     },
     "execution_count": 7,
     "metadata": {},
     "output_type": "execute_result"
    }
   ],
   "source": [
    "mas=np.argmax(a,axis=1)\n",
    "mas"
   ]
  },
  {
   "cell_type": "code",
   "execution_count": 8,
   "metadata": {},
   "outputs": [
    {
     "name": "stdout",
     "output_type": "stream",
     "text": [
      "4\n"
     ]
    },
    {
     "data": {
      "text/plain": [
       "array([9, 9, 8, 8])"
      ]
     },
     "execution_count": 8,
     "metadata": {},
     "output_type": "execute_result"
    }
   ],
   "source": [
    "print(a.shape[0])###########0表示按行\n",
    "a[np.arange(a.shape[0]),mas]###########可选出每个最大值"
   ]
  },
  {
   "cell_type": "code",
   "execution_count": 9,
   "metadata": {},
   "outputs": [
    {
     "data": {
      "text/plain": [
       "array([[4, 0, 9, 5, 8],\n",
       "       [0, 9, 2, 6, 3],\n",
       "       [8, 2, 4, 2, 6],\n",
       "       [4, 8, 6, 1, 3]])"
      ]
     },
     "execution_count": 9,
     "metadata": {},
     "output_type": "execute_result"
    }
   ],
   "source": [
    "a\n"
   ]
  },
  {
   "cell_type": "code",
   "execution_count": 10,
   "metadata": {},
   "outputs": [
    {
     "data": {
      "text/plain": [
       "array([[0, 4, 5, 8, 9],\n",
       "       [0, 2, 3, 6, 9],\n",
       "       [2, 2, 4, 6, 8],\n",
       "       [1, 3, 4, 6, 8]])"
      ]
     },
     "execution_count": 10,
     "metadata": {},
     "output_type": "execute_result"
    }
   ],
   "source": [
    "np.sort(a)"
   ]
  },
  {
   "cell_type": "code",
   "execution_count": 11,
   "metadata": {},
   "outputs": [
    {
     "data": {
      "text/plain": [
       "array([[0, 0, 2, 1, 3],\n",
       "       [4, 2, 4, 2, 3],\n",
       "       [4, 8, 6, 5, 6],\n",
       "       [8, 9, 9, 6, 8]])"
      ]
     },
     "execution_count": 11,
     "metadata": {},
     "output_type": "execute_result"
    }
   ],
   "source": [
    "np.sort(a,axis=0)##########对每一列进行排序"
   ]
  },
  {
   "cell_type": "code",
   "execution_count": 12,
   "metadata": {},
   "outputs": [],
   "source": [
    "sort1=np.argsort(a)\n",
    "sort2=np.argsort(a,axis=0)"
   ]
  },
  {
   "cell_type": "code",
   "execution_count": 13,
   "metadata": {},
   "outputs": [
    {
     "name": "stdout",
     "output_type": "stream",
     "text": [
      "[[1 0 3 4 2]\n",
      " [0 2 4 3 1]\n",
      " [1 3 2 4 0]\n",
      " [3 4 0 2 1]]\n",
      "[[1 0 1 3 1]\n",
      " [0 2 2 2 3]\n",
      " [3 3 3 0 2]\n",
      " [2 1 0 1 0]]\n"
     ]
    }
   ],
   "source": [
    "print(sort1)\n",
    "print(sort2)"
   ]
  },
  {
   "cell_type": "code",
   "execution_count": 14,
   "metadata": {},
   "outputs": [],
   "source": [
    "axis0,axis1=np.ogrid[:a.shape[0],:a.shape[1]]########### 产生第0轴和第一轴的下标"
   ]
  },
  {
   "cell_type": "code",
   "execution_count": 15,
   "metadata": {},
   "outputs": [
    {
     "data": {
      "text/plain": [
       "array([[0, 4, 5, 8, 9],\n",
       "       [0, 2, 3, 6, 9],\n",
       "       [2, 2, 4, 6, 8],\n",
       "       [1, 3, 4, 6, 8]])"
      ]
     },
     "execution_count": 15,
     "metadata": {},
     "output_type": "execute_result"
    }
   ],
   "source": [
    "a[axis0,sort1]####  axis0第0个轴（对横轴进行操作）的坐标，sort1表示///////对行进行排序"
   ]
  },
  {
   "cell_type": "code",
   "execution_count": 16,
   "metadata": {},
   "outputs": [
    {
     "name": "stdout",
     "output_type": "stream",
     "text": [
      "#########################################\n",
      "[[0]\n",
      " [1]\n",
      " [2]\n",
      " [3]]\n",
      "#########################################\n",
      "[[0 1 2 3 4]]\n"
     ]
    }
   ],
   "source": [
    "a[sort2,axis1]####  \n",
    "print(\"#########################################\")\n",
    "print(axis0)\n",
    "print(\"#########################################\")\n",
    "print(axis1)"
   ]
  },
  {
   "cell_type": "code",
   "execution_count": 17,
   "metadata": {},
   "outputs": [
    {
     "data": {
      "text/plain": [
       "array([[0, 0, 2, 1, 3],\n",
       "       [4, 2, 4, 2, 3],\n",
       "       [4, 8, 6, 5, 6],\n",
       "       [8, 9, 9, 6, 8]])"
      ]
     },
     "execution_count": 17,
     "metadata": {},
     "output_type": "execute_result"
    }
   ],
   "source": [
    "a[sort2,axis1]####对列进行排序"
   ]
  },
  {
   "cell_type": "code",
   "execution_count": 18,
   "metadata": {},
   "outputs": [
    {
     "data": {
      "text/plain": [
       "array([[0, 4, 5, 8, 9],\n",
       "       [0, 2, 3, 6, 9],\n",
       "       [2, 2, 4, 6, 8],\n",
       "       [1, 3, 4, 6, 8]])"
      ]
     },
     "execution_count": 18,
     "metadata": {},
     "output_type": "execute_result"
    }
   ],
   "source": [
    "a[axis0,sort1]"
   ]
  },
  {
   "cell_type": "code",
   "execution_count": 19,
   "metadata": {
    "scrolled": false
   },
   "outputs": [
    {
     "name": "stdout",
     "output_type": "stream",
     "text": [
      "[2 3 1 4 0]\n"
     ]
    }
   ],
   "source": [
    "names=[\"zhang\",\"wang\",\"li\",\"wang\",\"zhang\"]\n",
    "ages=[37,33,32,31,36]\n",
    "idx=np.lexsort([ages,names])\n",
    "print(idx)\n",
    "a_temp=np.array(list(zip(names,ages)),\"O\")[idx]\n",
    "######  给array() 传入序列对象来创建数组，多层嵌套则创建多维数组"
   ]
  },
  {
   "cell_type": "code",
   "execution_count": 20,
   "metadata": {},
   "outputs": [
    {
     "data": {
      "text/plain": [
       "array([['li', 32],\n",
       "       ['wang', 31],\n",
       "       ['wang', 33],\n",
       "       ['zhang', 36],\n",
       "       ['zhang', 37]], dtype=object)"
      ]
     },
     "execution_count": 20,
     "metadata": {},
     "output_type": "execute_result"
    }
   ],
   "source": [
    "a_temp"
   ]
  },
  {
   "cell_type": "code",
   "execution_count": 21,
   "metadata": {},
   "outputs": [
    {
     "name": "stdout",
     "output_type": "stream",
     "text": [
      "3\n",
      "[[8 1 9]\n",
      " [8 9 4]\n",
      " [1 3 6]\n",
      " [7 2 0]\n",
      " [3 1 7]]\n"
     ]
    }
   ],
   "source": [
    "b=np.random.randint(0,10,(5,3))\n",
    "a=np.random.randint(0,10)\n",
    "print(a)\n",
    "print(b)"
   ]
  },
  {
   "cell_type": "code",
   "execution_count": 22,
   "metadata": {},
   "outputs": [
    {
     "data": {
      "text/plain": [
       "array([[9, 4, 6, 0, 7],\n",
       "       [1, 9, 3, 2, 1],\n",
       "       [8, 8, 1, 7, 3]])"
      ]
     },
     "execution_count": 22,
     "metadata": {},
     "output_type": "execute_result"
    }
   ],
   "source": [
    "b[:,::-1].T##### ::-1 倒序  .T转置"
   ]
  },
  {
   "cell_type": "code",
   "execution_count": 23,
   "metadata": {},
   "outputs": [
    {
     "data": {
      "text/plain": [
       "array([2, 4, 3, 0, 1], dtype=int64)"
      ]
     },
     "execution_count": 23,
     "metadata": {},
     "output_type": "execute_result"
    }
   ],
   "source": [
    "np.lexsort(b[:,::-1].T)"
   ]
  },
  {
   "cell_type": "code",
   "execution_count": 24,
   "metadata": {},
   "outputs": [
    {
     "data": {
      "text/plain": [
       "array([[1, 3, 6],\n",
       "       [3, 1, 7],\n",
       "       [7, 2, 0],\n",
       "       [8, 1, 9],\n",
       "       [8, 9, 4]])"
      ]
     },
     "execution_count": 24,
     "metadata": {},
     "output_type": "execute_result"
    }
   ],
   "source": [
    "b[np.lexsort(b[:,::-1].T)]"
   ]
  },
  {
   "cell_type": "code",
   "execution_count": 25,
   "metadata": {},
   "outputs": [
    {
     "data": {
      "text/plain": [
       "array([805889, 459773, 208261, ...,  60820, 430571, 794306])"
      ]
     },
     "execution_count": 25,
     "metadata": {},
     "output_type": "execute_result"
    }
   ],
   "source": [
    "r=np.random.randint(0,1000000,100000)\n",
    "r"
   ]
  },
  {
   "cell_type": "code",
   "execution_count": 26,
   "metadata": {},
   "outputs": [
    {
     "data": {
      "text/plain": [
       "array([ 5, 13, 15, 27, 37])"
      ]
     },
     "execution_count": 26,
     "metadata": {},
     "output_type": "execute_result"
    }
   ],
   "source": [
    "np.sort(r)[:5]"
   ]
  },
  {
   "cell_type": "code",
   "execution_count": 27,
   "metadata": {},
   "outputs": [
    {
     "name": "stdout",
     "output_type": "stream",
     "text": [
      "None\n"
     ]
    }
   ],
   "source": [
    "print(b.sort())"
   ]
  },
  {
   "cell_type": "code",
   "execution_count": 28,
   "metadata": {},
   "outputs": [
    {
     "data": {
      "text/plain": [
       "array([     5,     13,     15, ...,  60820, 430571, 794306])"
      ]
     },
     "execution_count": 28,
     "metadata": {},
     "output_type": "execute_result"
    }
   ],
   "source": [
    "np.partition(r,2)"
   ]
  },
  {
   "cell_type": "code",
   "execution_count": 31,
   "metadata": {},
   "outputs": [
    {
     "name": "stdout",
     "output_type": "stream",
     "text": [
      "[[8 7 2 9 4]\n",
      " [4 4 7 2 2]\n",
      " [7 8 4 9 7]\n",
      " [4 3 1 3 1]]\n"
     ]
    }
   ],
   "source": [
    "a=np.random.randint(0,10,size=(4,5))\n",
    "print(a)"
   ]
  },
  {
   "cell_type": "code",
   "execution_count": 32,
   "metadata": {},
   "outputs": [
    {
     "data": {
      "text/plain": [
       "array([[8, 7, 2, 9, 4],\n",
       "       [4, 4, 7, 2, 2],\n",
       "       [7, 8, 4, 9, 7],\n",
       "       [4, 3, 1, 3, 1]])"
      ]
     },
     "execution_count": 32,
     "metadata": {},
     "output_type": "execute_result"
    }
   ],
   "source": [
    "a"
   ]
  },
  {
   "cell_type": "code",
   "execution_count": 33,
   "metadata": {},
   "outputs": [
    {
     "data": {
      "text/plain": [
       "array([7., 4., 7., 3.])"
      ]
     },
     "execution_count": 33,
     "metadata": {},
     "output_type": "execute_result"
    }
   ],
   "source": [
    "np.median(a,axis=1)"
   ]
  },
  {
   "cell_type": "code",
   "execution_count": 36,
   "metadata": {},
   "outputs": [],
   "source": [
    "r=np.abs(np.random.randn(100000))"
   ]
  },
  {
   "cell_type": "code",
   "execution_count": 37,
   "metadata": {},
   "outputs": [
    {
     "data": {
      "text/plain": [
       "array([0.16811019, 0.02952086, 1.01371257, ..., 0.34946832, 0.64147451,\n",
       "       0.12875561])"
      ]
     },
     "execution_count": 37,
     "metadata": {},
     "output_type": "execute_result"
    }
   ],
   "source": [
    "r"
   ]
  },
  {
   "cell_type": "code",
   "execution_count": 38,
   "metadata": {},
   "outputs": [
    {
     "data": {
      "text/plain": [
       "array([1.00057639, 2.00364613, 2.95337579])"
      ]
     },
     "execution_count": 38,
     "metadata": {},
     "output_type": "execute_result"
    }
   ],
   "source": [
    "np.percentile(r,[68.3,95.4,99.7]) \n",
    "###计算标准正态分布的绝对值在68.3%、。。。的百分位数，他们应该约等于标准差的一倍二倍三倍。"
   ]
  },
  {
   "cell_type": "code",
   "execution_count": 39,
   "metadata": {},
   "outputs": [],
   "source": [
    "a=[2,4,8,16,16,32]\n",
    "v=[1,5,33,16]"
   ]
  },
  {
   "cell_type": "code",
   "execution_count": 40,
   "metadata": {},
   "outputs": [
    {
     "data": {
      "text/plain": [
       "array([0, 2, 6, 3], dtype=int64)"
      ]
     },
     "execution_count": 40,
     "metadata": {},
     "output_type": "execute_result"
    }
   ],
   "source": [
    "np.searchsorted(a,v)"
   ]
  },
  {
   "cell_type": "code",
   "execution_count": 42,
   "metadata": {},
   "outputs": [
    {
     "data": {
      "text/plain": [
       "array([0, 2, 6, 5], dtype=int64)"
      ]
     },
     "execution_count": 42,
     "metadata": {},
     "output_type": "execute_result"
    }
   ],
   "source": [
    "np.searchsorted(a,v,side=\"right\")"
   ]
  },
  {
   "cell_type": "code",
   "execution_count": null,
   "metadata": {},
   "outputs": [],
   "source": []
  }
 ],
 "metadata": {
  "kernelspec": {
   "display_name": "Python 3",
   "language": "python",
   "name": "python3"
  },
  "language_info": {
   "codemirror_mode": {
    "name": "ipython",
    "version": 3
   },
   "file_extension": ".py",
   "mimetype": "text/x-python",
   "name": "python",
   "nbconvert_exporter": "python",
   "pygments_lexer": "ipython3",
   "version": "3.6.4"
  }
 },
 "nbformat": 4,
 "nbformat_minor": 2
}
