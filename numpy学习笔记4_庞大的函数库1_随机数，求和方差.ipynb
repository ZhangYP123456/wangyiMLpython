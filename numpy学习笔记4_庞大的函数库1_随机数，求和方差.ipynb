{
 "cells": [
  {
   "cell_type": "markdown",
   "metadata": {},
   "source": [
    "## 1.随机数"
   ]
  },
  {
   "cell_type": "markdown",
   "metadata": {},
   "source": [
    "1.rand()：产生0-1之间的随机浮点数,括号内用于产生数组的形状；  randn():产生标准正态的随机数，括号内用于产生数组的形状；  randint():产生指定范围的随机整数，包含起始值，但不包含终值，第三个参数表示形状\n",
    "\n",
    "2.最后一个参数表示输出数组的形状：normal（）：正态分布，前两个参数表示期望值和标准差； uniform（）：均匀分布，前两个参数分别为区间的起始终值\n",
    "poisson:泊松分布，第一个参数是入参数，单位时间内随机时间的平均发生率。————输出整数数组\n",
    "\n",
    "3.permutation():用于产生一个乱序数组，参数为n,则返回[0,n)整数的随机排列。参数为一个序列时，返回随机排列的序列。\n",
    "\n",
    "4.np.random.shuffle():将参数数组的顺序打乱\n",
    "\n",
    "5.np.random.choice():\n",
    "\n",
    "6.seed():"
   ]
  },
  {
   "cell_type": "code",
   "execution_count": 1,
   "metadata": {},
   "outputs": [],
   "source": [
    "import numpy as np"
   ]
  },
  {
   "cell_type": "code",
   "execution_count": 2,
   "metadata": {},
   "outputs": [
    {
     "name": "stdout",
     "output_type": "stream",
     "text": [
      "[[0.20091487 0.9821852  0.58154803]\n",
      " [0.43648823 0.21425705 0.88097408]\n",
      " [0.46117973 0.73353106 0.6202163 ]\n",
      " [0.18905231 0.54920863 0.81103729]]\n",
      "000000000000000000000000000000000000000000\n",
      "[[-0.40268091 -0.47825516  0.91564005]\n",
      " [-0.31972784  1.58776847 -1.14891749]\n",
      " [-2.24412517  1.22968642  0.68866883]\n",
      " [-0.68141738 -2.13796919 -0.81917391]]\n",
      "000000000000000000000000000000000000000000\n",
      "[[6 9 5]\n",
      " [3 3 9]\n",
      " [0 8 4]\n",
      " [1 3 1]]\n"
     ]
    }
   ],
   "source": [
    "r1=np.random.rand(4,3)\n",
    "r2=np.random.randn(4,3)\n",
    "r3=np.random.randint(0,10,(4,3))\n",
    "print(r1)\n",
    "print(\"000000000000000000000000000000000000000000\")\n",
    "print(r2)\n",
    "print(\"000000000000000000000000000000000000000000\")\n",
    "print(r3)"
   ]
  },
  {
   "cell_type": "code",
   "execution_count": 3,
   "metadata": {},
   "outputs": [
    {
     "name": "stdout",
     "output_type": "stream",
     "text": [
      "[[ 93.64468782 107.88797804 103.45778357]\n",
      " [ 87.58092355  87.67547402 106.58309127]\n",
      " [ 99.11088476 132.46179946  93.95511238]\n",
      " [ 88.91230479 117.37056327  91.46432387]]\n",
      "000000000000000000000000000000000000000000\n",
      "[[17.25874729 12.09592363 17.35958433]\n",
      " [18.79945852 17.07667501 13.75995194]\n",
      " [12.638072   16.16356599 17.77201696]\n",
      " [16.53219663 13.53669084 11.65535994]]\n",
      "000000000000000000000000000000000000000000\n",
      "[[3 1 3]\n",
      " [1 0 4]\n",
      " [1 2 3]\n",
      " [2 2 2]]\n"
     ]
    }
   ],
   "source": [
    "rr1=np.random.normal(100,10,(4,3))\n",
    "rr2=np.random.uniform(10,20,(4,3))\n",
    "rr3=np.random.poisson(2.0,(4,3))\n",
    "print(rr1)\n",
    "print(\"000000000000000000000000000000000000000000\")\n",
    "print(rr2)\n",
    "print(\"000000000000000000000000000000000000000000\")\n",
    "print(rr3)"
   ]
  },
  {
   "cell_type": "code",
   "execution_count": 4,
   "metadata": {},
   "outputs": [
    {
     "name": "stdout",
     "output_type": "stream",
     "text": [
      "[ 1 10 20 30 40]\n"
     ]
    }
   ],
   "source": [
    "a=np.array([1,10,20,30,40])\n",
    "print(a)"
   ]
  },
  {
   "cell_type": "code",
   "execution_count": 5,
   "metadata": {},
   "outputs": [
    {
     "name": "stdout",
     "output_type": "stream",
     "text": [
      "[4 7 0 8 6 1 5 9 3 2]\n",
      "[10 20 40  1 30]\n"
     ]
    }
   ],
   "source": [
    "print(np.random.permutation(10))\n",
    "print(np.random.permutation(a))"
   ]
  },
  {
   "cell_type": "code",
   "execution_count": 6,
   "metadata": {},
   "outputs": [
    {
     "name": "stdout",
     "output_type": "stream",
     "text": [
      "[10. 11. 12. 13. 14. 15. 16. 17. 18. 19. 20. 21. 22. 23. 24.]\n",
      "_______________________________\n",
      "[[17. 12. 23.]\n",
      " [14. 24. 21.]\n",
      " [10. 19. 16.]\n",
      " [13. 15. 22.]]\n",
      "_______________________________\n",
      "[[23. 13. 19.]\n",
      " [14. 14. 19.]\n",
      " [22. 15. 24.]\n",
      " [15. 22. 24.]]\n",
      "_______________________________\n",
      "[[19. 10. 15.]\n",
      " [21. 14. 18.]\n",
      " [18. 14. 18.]\n",
      " [21. 18. 14.]]\n"
     ]
    }
   ],
   "source": [
    "a=np.arange(10,25,dtype=float)\n",
    "c1=np.random.choice(a,size=(4,3),replace=False)\n",
    "c2=np.random.choice(a,size=(4,3),p=a/np.sum(a))\n",
    "c3=np.random.choice(a,size=(4,3))\n",
    "print(a)\n",
    "print(\"_______________________________\")\n",
    "print(c1)\n",
    "print(\"_______________________________\")\n",
    "print(c2)\n",
    "print(\"_______________________________\")\n",
    "print(c3)\n"
   ]
  },
  {
   "cell_type": "markdown",
   "metadata": {},
   "source": [
    "# 2.求和，平均数，方差"
   ]
  },
  {
   "cell_type": "markdown",
   "metadata": {},
   "source": [
    "1.np.sum():计算所有元素的和，axis = 0(（第0轴）第一维度相加)表示对最外层[]里的最大单位块做块与块之间的运算,同时移除最外层[];;;;axis=1表示第二外层[];;;;axis=n表示第n外层[];;;axis=(x,y)则求第X,第Y的轴的和；；；；；；；；；；；；；；；；；sum(a, axis=None, dtype=None, out=None, keepdims=<class 'numpy._globals._NoValue'>)keepdims为TRUE时，可以保持原数组的维数；；当出现溢出问题以及想改变累加变量类型，用dtype指定。；；；；；；也可用out数组，但形状必须和结果数组的形状相同\n",
    "\n",
    "2.np.double:双精度\n",
    "\n",
    "3.mean(a, axis=None, dtype=None, out=None, keepdims=<class 'numpy._globals._NoValue'>)::求平均值\n",
    "\n",
    "4.average(a, axis=None, weights=None, returned=False):求平均值，weights属性可以计算加权平均数  \n",
    "\n",
    "5.std(a, axis=None, dtype=None, out=None, ddof=0, keepdims=<class 'numpy._globals._NoValue'>)：计算标准差；；ddof=0时计算偏样本方差，ddof=1计算无偏样本方差\n",
    "\n",
    "6.var(a, axis=None, dtype=None, out=None, ddof=0, keepdims=<class 'numpy._globals._NoValue'>)：计算方差"
   ]
  },
  {
   "cell_type": "code",
   "execution_count": 24,
   "metadata": {},
   "outputs": [
    {
     "name": "stdout",
     "output_type": "stream",
     "text": [
      "[[6 3 7 4 6]\n",
      " [9 2 6 7 4]\n",
      " [3 7 7 2 5]\n",
      " [4 1 7 5 1]]\n",
      ">>>>>>>>>>>>>>>>>>>>>>>>>>>>>\n",
      "[5.2 5.6 4.8 3.6]\n",
      ">>>>>>>>>>>>>>>>>>>>>>>>>>>>>\n",
      "[[[1. 1. 1. 1.]\n",
      "  [1. 1. 1. 1.]\n",
      "  [1. 1. 1. 1.]]\n",
      "\n",
      " [[1. 1. 1. 1.]\n",
      "  [1. 1. 1. 1.]\n",
      "  [1. 1. 1. 1.]]]\n",
      "[8. 8. 8.]\n"
     ]
    }
   ],
   "source": [
    "np.random.seed(42)\n",
    "a=np.random.randint(0,10,size=(4,5))\n",
    "print(a)\n",
    "print(\">>>>>>>>>>>>>>>>>>>>>>>>>>>>>\")\n",
    "print(np.sum(a,axis=1)/5)\n",
    "print(\">>>>>>>>>>>>>>>>>>>>>>>>>>>>>\")\n",
    "print(np.ones((2,3,4)))\n",
    "\n",
    "print(np.sum(np.ones((2,3,4)),axis=(0,2)))#######表示3行4列，两个数组\n",
    "\n",
    "#########axis=(0,2)"
   ]
  },
  {
   "cell_type": "code",
   "execution_count": 21,
   "metadata": {},
   "outputs": [
    {
     "data": {
      "text/plain": [
       "array([5.2, 5.6, 4.8, 3.6])"
      ]
     },
     "execution_count": 21,
     "metadata": {},
     "output_type": "execute_result"
    }
   ],
   "source": [
    "np.mean(a,axis=1)"
   ]
  },
  {
   "cell_type": "code",
   "execution_count": 26,
   "metadata": {},
   "outputs": [
    {
     "name": "stdout",
     "output_type": "stream",
     "text": [
      "78.61538461538461\n"
     ]
    }
   ],
   "source": [
    "s=np.array([83,72,79])\n",
    "n=np.array([20,15,30])\n",
    "print(np.average(s,weights=n))  ####相当于  np.sum(c*n)/np.sum(n,dtype=float)"
   ]
  },
  {
   "cell_type": "code",
   "execution_count": null,
   "metadata": {},
   "outputs": [],
   "source": []
  }
 ],
 "metadata": {
  "kernelspec": {
   "display_name": "Python 3",
   "language": "python",
   "name": "python3"
  },
  "language_info": {
   "codemirror_mode": {
    "name": "ipython",
    "version": 3
   },
   "file_extension": ".py",
   "mimetype": "text/x-python",
   "name": "python",
   "nbconvert_exporter": "python",
   "pygments_lexer": "ipython3",
   "version": "3.6.4"
  }
 },
 "nbformat": 4,
 "nbformat_minor": 2
}
