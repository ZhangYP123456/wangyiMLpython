{
 "cells": [
  {
   "cell_type": "markdown",
   "metadata": {},
   "source": [
    "# 获得前N个主成分"
   ]
  },
  {
   "cell_type": "code",
   "execution_count": 7,
   "metadata": {},
   "outputs": [],
   "source": [
    "import numpy as np\n",
    "import matplotlib.pyplot as plt "
   ]
  },
  {
   "cell_type": "code",
   "execution_count": 8,
   "metadata": {},
   "outputs": [],
   "source": [
    "x = np.empty((100,2))\n",
    "x[:,0] = np.random.uniform(0.,100.,size = 100)\n",
    "x[:,1] = 0.75*x[:,0] + 3. + np.random.normal(0,10.,size=100)"
   ]
  },
  {
   "cell_type": "code",
   "execution_count": 9,
   "metadata": {},
   "outputs": [],
   "source": [
    "def demean(x):\n",
    "    return x-np.mean(x,axis=0)\n",
    "x_demean = demean(x)"
   ]
  },
  {
   "cell_type": "code",
   "execution_count": 10,
   "metadata": {},
   "outputs": [
    {
     "data": {
      "image/png": "[encoded data removed]",
      "text/plain": [
       "<matplotlib.figure.Figure at 0x8aa2ba8>"
      ]
     },
     "metadata": {},
     "output_type": "display_data"
    }
   ],
   "source": [
    "plt.scatter(x_demean[:,0],x_demean[:,1])\n",
    "plt.show()"
   ]
  },
  {
   "cell_type": "code",
   "execution_count": 24,
   "metadata": {},
   "outputs": [],
   "source": [
    "def f(w,x):\n",
    "    return np.sum((x.dot(w))**2)/len(x)\n",
    "\n",
    "def df(w,x):\n",
    "    return x.T.dot(x.dot(w)) * 2 /len(x)\n",
    "\n",
    "def direction(w):\n",
    "    return w/np.linalg.norm(w)###  w/(w的模)\n",
    "\n",
    "def first_component(x , initial_w , eta, n_iters=1e4, epsilson = 1e-8):\n",
    "    i_iter=0\n",
    "    w = direction(initial_w)\n",
    "    while i_iter<n_iters:\n",
    "        gradient=df(w,x)\n",
    "        last_w=w\n",
    "        w=w+eta * gradient  ###迭代 让theta每次都能向导数的正移一步\n",
    "        w = direction(w) ### 让w的模 为1，成为单位方向向量\n",
    "        if(abs(f(w,x)-f(last_w,x))<epsilson):\n",
    "              break\n",
    "        i_iter+=1\n",
    "    return w"
   ]
  },
  {
   "cell_type": "code",
   "execution_count": 25,
   "metadata": {},
   "outputs": [
    {
     "data": {
      "text/plain": [
       "array([0.78849319, 0.61504349])"
      ]
     },
     "execution_count": 25,
     "metadata": {},
     "output_type": "execute_result"
    }
   ],
   "source": [
    "initial_w = np.random.random(x.shape[1])   # 注意1：初始的开始的方向不能为零\n",
    "eta = 0.01 # 注意2：不能使用standscaler进行标准化\n",
    "w = first_comonent(x_demean,initial_w,eta)\n",
    "w"
   ]
  },
  {
   "cell_type": "code",
   "execution_count": 26,
   "metadata": {},
   "outputs": [
    {
     "data": {
      "image/png": "[encoded data removed]",
      "text/plain": [
       "<matplotlib.figure.Figure at 0x8c38f98>"
      ]
     },
     "metadata": {},
     "output_type": "display_data"
    }
   ],
   "source": [
    "#x2 = np.empty(x.shape)\n",
    "#for i in range(len(x)):\n",
    "#     x2[i] = x[i] - x[i].dot(w) * w\n",
    "x2 = x - x.dot(w).reshape(-1,1)*w\n",
    "plt.scatter(x2[:,0],x2[:,1])\n",
    "plt.show()"
   ]
  },
  {
   "cell_type": "code",
   "execution_count": 27,
   "metadata": {},
   "outputs": [
    {
     "data": {
      "text/plain": [
       "array([ 0.61504655, -0.7884908 ])"
      ]
     },
     "execution_count": 27,
     "metadata": {},
     "output_type": "execute_result"
    }
   ],
   "source": [
    "w2 = first_comonent(x2,initial_w,eta)\n",
    "w2"
   ]
  },
  {
   "cell_type": "code",
   "execution_count": 28,
   "metadata": {},
   "outputs": [
    {
     "data": {
      "text/plain": [
       "3.885453723317944e-06"
      ]
     },
     "execution_count": 28,
     "metadata": {},
     "output_type": "execute_result"
    }
   ],
   "source": [
    "w.dot(w2)"
   ]
  },
  {
   "cell_type": "code",
   "execution_count": 29,
   "metadata": {},
   "outputs": [],
   "source": [
    "def first_n_component(n, x, eta=0.01, n_iters=1e4, epsilson = 1e-8):\n",
    "    x_pca = x.copy()\n",
    "    x_pca = demean(x_pca)\n",
    "    res = []\n",
    "    for i in range(n):\n",
    "        initial_w = np.random.random(x_pca.shape[1])   # 注意1：初始的开始的方向不能为零\n",
    "        eta = 0.01 # 注意2：不能使用standscaler进行标准化\n",
    "        w = first_comonent(x_pca,initial_w,eta) \n",
    "        res.append(w)\n",
    "        \n",
    "        x_pca = x_pca - x_pca.dot(w).reshape(-1,1) * w\n",
    "        \n",
    "    return res"
   ]
  },
  {
   "cell_type": "code",
   "execution_count": 30,
   "metadata": {},
   "outputs": [
    {
     "data": {
      "text/plain": [
       "[array([0.7884931, 0.6150436]), array([-0.61503984,  0.78849603])]"
      ]
     },
     "execution_count": 30,
     "metadata": {},
     "output_type": "execute_result"
    }
   ],
   "source": [
    "first_n_component(2,x)"
   ]
  }
 ],
 "metadata": {
  "kernelspec": {
   "display_name": "Python 3",
   "language": "python",
   "name": "python3"
  },
  "language_info": {
   "codemirror_mode": {
    "name": "ipython",
    "version": 3
   },
   "file_extension": ".py",
   "mimetype": "text/x-python",
   "name": "python",
   "nbconvert_exporter": "python",
   "pygments_lexer": "ipython3",
   "version": "3.6.4"
  }
 },
 "nbformat": 4,
 "nbformat_minor": 2
}
