{
 "cells": [
  {
   "cell_type": "markdown",
   "metadata": {},
   "source": [
    "# K近邻"
   ]
  },
  {
   "cell_type": "code",
   "execution_count": 1,
   "metadata": {},
   "outputs": [],
   "source": [
    "import numpy as np "
   ]
  },
  {
   "cell_type": "code",
   "execution_count": 3,
   "metadata": {},
   "outputs": [],
   "source": [
    "import matplotlib.pyplot as plt"
   ]
  },
  {
   "cell_type": "code",
   "execution_count": 22,
   "metadata": {},
   "outputs": [],
   "source": [
    "raw_data_x=[[7.00437122, 8.44186643],\n",
    "       [6.76514336, 7.27858057],\n",
    "       [9.51457957, 0.12703197],\n",
    "       [4.13587699, 0.48812794],\n",
    "       [5.99928561, 5.08066306],\n",
    "       [2.00247539, 7.44154169],\n",
    "       [1.92892003, 7.00844752],\n",
    "       [2.93228106, 7.74479454],\n",
    "       [0.05108839, 1.12857654],\n",
    "       [1.10953672, 2.47668229]]"
   ]
  },
  {
   "cell_type": "code",
   "execution_count": 23,
   "metadata": {},
   "outputs": [
    {
     "data": {
      "text/plain": [
       "[[7.00437122, 8.44186643],\n",
       " [6.76514336, 7.27858057],\n",
       " [9.51457957, 0.12703197],\n",
       " [4.13587699, 0.48812794],\n",
       " [5.99928561, 5.08066306],\n",
       " [2.00247539, 7.44154169],\n",
       " [1.92892003, 7.00844752],\n",
       " [2.93228106, 7.74479454],\n",
       " [0.05108839, 1.12857654],\n",
       " [1.10953672, 2.47668229]]"
      ]
     },
     "execution_count": 23,
     "metadata": {},
     "output_type": "execute_result"
    }
   ],
   "source": [
    "raw_data_x"
   ]
  },
  {
   "cell_type": "code",
   "execution_count": 24,
   "metadata": {},
   "outputs": [],
   "source": [
    "raw_data_y=[0,0,0,0,0,1,1,1,1,1]"
   ]
  },
  {
   "cell_type": "code",
   "execution_count": 25,
   "metadata": {},
   "outputs": [],
   "source": [
    "x_train=np.array(raw_data_x)\n",
    "y_train=np.array(raw_data_y)"
   ]
  },
  {
   "cell_type": "code",
   "execution_count": 26,
   "metadata": {},
   "outputs": [
    {
     "data": {
      "text/plain": [
       "<matplotlib.collections.PathCollection at 0x8b6b5f8>"
      ]
     },
     "execution_count": 26,
     "metadata": {},
     "output_type": "execute_result"
    },
    {
     "data": {
      "image/png": "[encoded data removed]",
      "text/plain": [
       "<matplotlib.figure.Figure at 0x8703b38>"
      ]
     },
     "metadata": {},
     "output_type": "display_data"
    }
   ],
   "source": [
    "plt.scatter(x_train[y_train==0,0],x_train[y_train==0,1],color=\"red\") ###设置点的形状\n",
    "####  取 数据集中target等于0的第一列和第二列\n",
    "plt.scatter(x_train[y_train==1,0],x_train[y_train==1,1],color=\"blue\")\n"
   ]
  },
  {
   "cell_type": "code",
   "execution_count": 27,
   "metadata": {},
   "outputs": [],
   "source": [
    "x_1=np.array([0.093607318,3.365731514])"
   ]
  },
  {
   "cell_type": "code",
   "execution_count": 28,
   "metadata": {},
   "outputs": [
    {
     "data": {
      "text/plain": [
       "<matplotlib.collections.PathCollection at 0x8bd3668>"
      ]
     },
     "execution_count": 28,
     "metadata": {},
     "output_type": "execute_result"
    },
    {
     "data": {
      "image/png": "[encoded data removed]",
      "text/plain": [
       "<matplotlib.figure.Figure at 0x8b577b8>"
      ]
     },
     "metadata": {},
     "output_type": "display_data"
    }
   ],
   "source": [
    "plt.scatter(x_train[y_train==0,0],x_train[y_train==0,1],color=\"red\") ###设置点的形状\n",
    "####  取 数据集中target等于0的第一列和第二列\n",
    "plt.scatter(x_train[y_train==1,0],x_train[y_train==1,1],color=\"green\")\n",
    "plt.scatter(x_1[0],x_1[1],color=\"blue\")\n"
   ]
  },
  {
   "cell_type": "markdown",
   "metadata": {},
   "source": [
    "# kNN 的思路 "
   ]
  },
  {
   "cell_type": "markdown",
   "metadata": {},
   "source": [
    "## 相关函数解释\n",
    "\n",
    "##  collections\n",
    "### 1. Counter ：计数器，用于统计对象中每个元素出现的个数。                                                         .most_common(n) 返回n个重复次数最多的键值对[[x,y]] x:                                   元素，y:次数/////// .update()增加元素次数，.subtract减少元                                    素次数\n",
    "\n",
    "### 2.OrderDict：有序字典\n",
    "### 3.defaultdict：值带有默认类型的字典\n",
    "### 4.namedtuple：可命名元组，通过名字来访问元组元素\n",
    "### 5.deque :双向队列，队列头尾都可以放，也都可以取（与单向队列对比，单向队列只能一头放，另一头取）\n",
    "\n",
    "## argsort()\n",
    "###   函数将数组的值从小到大排序后，并按照其相对应的索引值输出"
   ]
  },
  {
   "cell_type": "code",
   "execution_count": 58,
   "metadata": {},
   "outputs": [],
   "source": [
    "from math import  sqrt \n",
    "distance=[]\n",
    "for x_t in x_train:\n",
    "    d=sqrt(np.sum(x_1-x_t)**2)\n",
    "    distance.append(d)"
   ]
  },
  {
   "cell_type": "code",
   "execution_count": 72,
   "metadata": {},
   "outputs": [
    {
     "data": {
      "text/plain": [
       "array([9, 3, 8, 6, 5, 2, 7, 4, 1, 0], dtype=int64)"
      ]
     },
     "execution_count": 72,
     "metadata": {},
     "output_type": "execute_result"
    }
   ],
   "source": [
    "np.argsort(distance)"
   ]
  },
  {
   "cell_type": "code",
   "execution_count": 73,
   "metadata": {},
   "outputs": [],
   "source": [
    "nearest=np.argsort(distance)"
   ]
  },
  {
   "cell_type": "code",
   "execution_count": 75,
   "metadata": {},
   "outputs": [
    {
     "data": {
      "text/plain": [
       "[1, 0, 1, 1, 1, 0]"
      ]
     },
     "execution_count": 75,
     "metadata": {},
     "output_type": "execute_result"
    }
   ],
   "source": [
    "k=6\n",
    "topk_y=[y_train[i]  for  i  in  nearest[:k]]\n",
    "topk_y"
   ]
  },
  {
   "cell_type": "code",
   "execution_count": 78,
   "metadata": {},
   "outputs": [
    {
     "data": {
      "text/plain": [
       "Counter({0: 2, 1: 4})"
      ]
     },
     "execution_count": 78,
     "metadata": {},
     "output_type": "execute_result"
    }
   ],
   "source": [
    "from collections import Counter\n",
    "Counter(topk_y)######输出数组元素出现的频次"
   ]
  },
  {
   "cell_type": "code",
   "execution_count": 79,
   "metadata": {},
   "outputs": [],
   "source": [
    "votes=Counter(topk_y)"
   ]
  },
  {
   "cell_type": "code",
   "execution_count": 85,
   "metadata": {},
   "outputs": [
    {
     "data": {
      "text/plain": [
       "1"
      ]
     },
     "execution_count": 85,
     "metadata": {},
     "output_type": "execute_result"
    }
   ],
   "source": [
    "predict_y=votes.most_common(1)[0][0]    ##########得出新来的数据分类是1\n",
    "predict_y"
   ]
  },
  {
   "cell_type": "code",
   "execution_count": null,
   "metadata": {},
   "outputs": [],
   "source": []
  }
 ],
 "metadata": {
  "kernelspec": {
   "display_name": "Python 3",
   "language": "python",
   "name": "python3"
  },
  "language_info": {
   "codemirror_mode": {
    "name": "ipython",
    "version": 3
   },
   "file_extension": ".py",
   "mimetype": "text/x-python",
   "name": "python",
   "nbconvert_exporter": "python",
   "pygments_lexer": "ipython3",
   "version": "3.6.4"
  }
 },
 "nbformat": 4,
 "nbformat_minor": 2
}
