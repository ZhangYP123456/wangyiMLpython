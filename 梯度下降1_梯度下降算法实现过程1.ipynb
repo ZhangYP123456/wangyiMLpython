{
 "cells": [
  {
   "cell_type": "code",
   "execution_count": 1,
   "metadata": {},
   "outputs": [],
   "source": [
    "import numpy as np\n",
    "import matplotlib.pyplot as plt"
   ]
  },
  {
   "cell_type": "code",
   "execution_count": 2,
   "metadata": {},
   "outputs": [
    {
     "data": {
      "text/plain": [
       "array([-1.  , -0.95, -0.9 , -0.85, -0.8 , -0.75, -0.7 , -0.65, -0.6 ,\n",
       "       -0.55, -0.5 , -0.45, -0.4 , -0.35, -0.3 , -0.25, -0.2 , -0.15,\n",
       "       -0.1 , -0.05,  0.  ,  0.05,  0.1 ,  0.15,  0.2 ,  0.25,  0.3 ,\n",
       "        0.35,  0.4 ,  0.45,  0.5 ,  0.55,  0.6 ,  0.65,  0.7 ,  0.75,\n",
       "        0.8 ,  0.85,  0.9 ,  0.95,  1.  ,  1.05,  1.1 ,  1.15,  1.2 ,\n",
       "        1.25,  1.3 ,  1.35,  1.4 ,  1.45,  1.5 ,  1.55,  1.6 ,  1.65,\n",
       "        1.7 ,  1.75,  1.8 ,  1.85,  1.9 ,  1.95,  2.  ,  2.05,  2.1 ,\n",
       "        2.15,  2.2 ,  2.25,  2.3 ,  2.35,  2.4 ,  2.45,  2.5 ,  2.55,\n",
       "        2.6 ,  2.65,  2.7 ,  2.75,  2.8 ,  2.85,  2.9 ,  2.95,  3.  ,\n",
       "        3.05,  3.1 ,  3.15,  3.2 ,  3.25,  3.3 ,  3.35,  3.4 ,  3.45,\n",
       "        3.5 ,  3.55,  3.6 ,  3.65,  3.7 ,  3.75,  3.8 ,  3.85,  3.9 ,\n",
       "        3.95,  4.  ,  4.05,  4.1 ,  4.15,  4.2 ,  4.25,  4.3 ,  4.35,\n",
       "        4.4 ,  4.45,  4.5 ,  4.55,  4.6 ,  4.65,  4.7 ,  4.75,  4.8 ,\n",
       "        4.85,  4.9 ,  4.95,  5.  ,  5.05,  5.1 ,  5.15,  5.2 ,  5.25,\n",
       "        5.3 ,  5.35,  5.4 ,  5.45,  5.5 ,  5.55,  5.6 ,  5.65,  5.7 ,\n",
       "        5.75,  5.8 ,  5.85,  5.9 ,  5.95,  6.  ])"
      ]
     },
     "execution_count": 2,
     "metadata": {},
     "output_type": "execute_result"
    }
   ],
   "source": [
    "plot_x=np.linspace(-1,6,141)         \n",
    "plot_x"
   ]
  },
  {
   "cell_type": "code",
   "execution_count": 3,
   "metadata": {},
   "outputs": [],
   "source": [
    "plot_y=(plot_x-2.5)**2-1           ##设定一个二次曲线，假设他是一个损失函数"
   ]
  },
  {
   "cell_type": "code",
   "execution_count": 4,
   "metadata": {},
   "outputs": [
    {
     "data": {
      "text/plain": [
       "[<matplotlib.lines.Line2D at 0x885bda0>]"
      ]
     },
     "execution_count": 4,
     "metadata": {},
     "output_type": "execute_result"
    },
    {
     "data": {
      "image/png": "[encoded data removed]",
      "text/plain": [
       "<matplotlib.figure.Figure at 0x8682978>"
      ]
     },
     "metadata": {},
     "output_type": "display_data"
    }
   ],
   "source": [
    "plt.plot(plot_x,plot_y)"
   ]
  },
  {
   "cell_type": "code",
   "execution_count": 5,
   "metadata": {},
   "outputs": [],
   "source": [
    "def dJ(theta):          ###每次都要求损失函数的导数   \n",
    "    return 2*(theta-2.5)  "
   ]
  },
  {
   "cell_type": "code",
   "execution_count": 6,
   "metadata": {},
   "outputs": [],
   "source": [
    "def J(theta):              ###损失函数\n",
    "    try:\n",
    "        return  (theta-2.5)**2-1\n",
    "    except:\n",
    "        return  float('inf')\n",
    "        "
   ]
  },
  {
   "cell_type": "code",
   "execution_count": 7,
   "metadata": {},
   "outputs": [
    {
     "name": "stdout",
     "output_type": "stream",
     "text": [
      "-0.99999998814289\n",
      "2.499891109642585\n"
     ]
    }
   ],
   "source": [
    "theta=0.0    \n",
    "eta=0.1                        #eta为步长，或者学习率\n",
    "esplion=1e-8\n",
    "while True:\n",
    "    gradient=dJ(theta)\n",
    "    last_theta=theta\n",
    "    theta=theta-eta * gradient  ###迭代 让theta每次都能向导数的负方向移一步\n",
    "    \n",
    "    if(abs(J(last_theta)-J(theta))<esplion):\n",
    "        break\n",
    "print(J(theta))\n",
    "print(theta)   "
   ]
  },
  {
   "cell_type": "code",
   "execution_count": 8,
   "metadata": {},
   "outputs": [
    {
     "name": "stdout",
     "output_type": "stream",
     "text": [
      "[0.         0.5        0.9        1.22       1.476      1.6808\n",
      " 1.84464    1.975712   2.0805696  2.16445568 2.23156454 2.28525164\n",
      " 2.32820131 2.36256105 2.39004884 2.41203907 2.42963126 2.443705\n",
      " 2.454964   2.4639712  2.47117696 2.47694157 2.48155326 2.4852426\n",
      " 2.48819408 2.49055527 2.49244421 2.49395537 2.4951643  2.49613144\n",
      " 2.49690515 2.49752412 2.4980193  2.49841544 2.49873235 2.49898588\n",
      " 2.4991887  2.49935096 2.49948077 2.49958462 2.49966769 2.49973415\n",
      " 2.49978732 2.49982986 2.49986389 2.49989111]\n"
     ]
    },
    {
     "data": {
      "text/plain": [
       "[<matplotlib.lines.Line2D at 0x884d4a8>]"
      ]
     },
     "execution_count": 8,
     "metadata": {},
     "output_type": "execute_result"
    },
    {
     "data": {
      "image/png": "[encoded data removed]",
      "text/plain": [
       "<matplotlib.figure.Figure at 0x8832ac8>"
      ]
     },
     "metadata": {},
     "output_type": "display_data"
    }
   ],
   "source": [
    "theta=0.0    \n",
    "eta=0.1                        #eta为步长，或者学习率\n",
    "theta_history=[theta]\n",
    "esplion=1e-8\n",
    "while True:\n",
    "    gradient=dJ(theta)\n",
    "    last_theta=theta\n",
    "    theta=theta-eta * gradient  ###迭代 让theta每次都能向导数的负方向移一步\n",
    "    theta_history.append(theta) ###向列表中添加每次移动后的theta\n",
    "    \n",
    "    if(abs(J(last_theta)-J(theta))<esplion):\n",
    "        break\n",
    "print(np.array(theta_history))\n",
    "plt.plot(plot_x,J(plot_x))      ####画一个损失函数的图像，与上面plot_y类似\n",
    "plt.plot(np.array(theta_history),J(np.array(theta_history)),color='r',marker='+') \n",
    "###marker为点的格式，plt.plot(x,y,format_string,**kwargs) x轴数据，y轴数据，format_string控制曲线的格式字串 "
   ]
  },
  {
   "cell_type": "code",
   "execution_count": 9,
   "metadata": {},
   "outputs": [
    {
     "data": {
      "text/plain": [
       "46"
      ]
     },
     "execution_count": 9,
     "metadata": {},
     "output_type": "execute_result"
    }
   ],
   "source": [
    "len(theta_history)"
   ]
  },
  {
   "cell_type": "code",
   "execution_count": 12,
   "metadata": {},
   "outputs": [],
   "source": [
    "def gradient_descent(initial_theta,eta,esplion=1e-8):\n",
    "    theta=initial_theta   \n",
    "    theta_history.append(initial_theta) \n",
    "    i_iter=0\n",
    "    while True:\n",
    "        gradient=dJ(theta)\n",
    "        last_theta=theta\n",
    "        theta=theta-eta * gradient  ###迭代 让theta每次都能向导数的负方向移一步\n",
    "        theta_history.append(theta) ###向列表中添加每次移动后的theta\n",
    "\n",
    "        if(abs(J(last_theta)-J(theta))<esplion):\n",
    "            break\n",
    "        i_iter+=1\n",
    "def plot_theta_history():\n",
    "    plt.plot(plot_x,J(plot_x))      ####画一个损失函数的图像，与上面plot_y类似\n",
    "    plt.plot(np.array(theta_history),J(np.array(theta_history)),color='r',marker='+') \n",
    "    ###marker为点的格式，plt.plot(x,y,format_string,**kwargs) x轴数据，y轴数据，format_string控制曲线的格式字串 "
   ]
  },
  {
   "cell_type": "code",
   "execution_count": 13,
   "metadata": {},
   "outputs": [
    {
     "data": {
      "image/png": "[encoded data removed]",
      "text/plain": [
       "<matplotlib.figure.Figure at 0x8b2c898>"
      ]
     },
     "metadata": {},
     "output_type": "display_data"
    }
   ],
   "source": [
    "eta=0.01\n",
    "theta_history=[]\n",
    "gradient_descent(0.1,eta)\n",
    "plot_theta_history()"
   ]
  },
  {
   "cell_type": "code",
   "execution_count": 14,
   "metadata": {},
   "outputs": [
    {
     "data": {
      "image/png": "[encoded data removed]",
      "text/plain": [
       "<matplotlib.figure.Figure at 0x8be7828>"
      ]
     },
     "metadata": {},
     "output_type": "display_data"
    }
   ],
   "source": [
    "eta=0.8\n",
    "theta_history=[]\n",
    "gradient_descent(0.,eta)\n",
    "plot_theta_history()"
   ]
  },
  {
   "cell_type": "code",
   "execution_count": null,
   "metadata": {},
   "outputs": [],
   "source": [
    "eta=1.1\n",
    "theta_history=[]\n",
    "gradient_descent(0.,eta)\n",
    "plot_theta_history()"
   ]
  },
  {
   "cell_type": "code",
   "execution_count": null,
   "metadata": {},
   "outputs": [],
   "source": [
    "def gradient_descent(initial_theta,eta,esplion=1e-8,n_iters=1e4):\n",
    "    theta=initial_theta   \n",
    "    theta_history.append(initial_theta) \n",
    "    i_iter=0\n",
    "    while i_iter<n_iters:\n",
    "        gradient=dJ(theta)\n",
    "        last_theta=theta\n",
    "        theta=theta-eta * gradient  ###迭代 让theta每次都能向导数的负方向移一步\n",
    "        theta_history.append(theta) ###向列表中添加每次移动后的theta\n",
    "\n",
    "        if(abs(J(last_theta)-J(theta))<esplion):\n",
    "            break\n",
    "        i_iter+=1\n",
    "def plot_theta_history():\n",
    "    plt.plot(plot_x,J(plot_x))      ####画一个损失函数的图像，与上面plot_y类似\n",
    "    plt.plot(np.array(theta_history),J(np.array(theta_history)),color='r',marker='+') \n",
    "    ###marker为点的格式，plt.plot(x,y,format_string,**kwargs) x轴数据，y轴数据，format_string控制曲线的格式字串 "
   ]
  },
  {
   "cell_type": "code",
   "execution_count": null,
   "metadata": {},
   "outputs": [],
   "source": [
    "eta=1.1\n",
    "theta_history=[]\n",
    "gradient_descent(0.,eta)\n",
    "plot_theta_history()"
   ]
  },
  {
   "cell_type": "code",
   "execution_count": null,
   "metadata": {},
   "outputs": [],
   "source": [
    "len(theta_history)"
   ]
  },
  {
   "cell_type": "code",
   "execution_count": null,
   "metadata": {},
   "outputs": [],
   "source": []
  },
  {
   "cell_type": "code",
   "execution_count": null,
   "metadata": {},
   "outputs": [],
   "source": []
  }
 ],
 "metadata": {
  "kernelspec": {
   "display_name": "Python 3",
   "language": "python",
   "name": "python3"
  },
  "language_info": {
   "codemirror_mode": {
    "name": "ipython",
    "version": 3
   },
   "file_extension": ".py",
   "mimetype": "text/x-python",
   "name": "python",
   "nbconvert_exporter": "python",
   "pygments_lexer": "ipython3",
   "version": "3.6.4"
  }
 },
 "nbformat": 4,
 "nbformat_minor": 2
}
