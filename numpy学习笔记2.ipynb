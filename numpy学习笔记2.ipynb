{
 "cells": [
  {
   "cell_type": "markdown",
   "metadata": {},
   "source": [
    "# numpy中的结构数组（参见书50）"
   ]
  },
  {
   "cell_type": "code",
   "execution_count": 5,
   "metadata": {},
   "outputs": [],
   "source": [
    "import numpy as np\n",
    "persontype=np.dtype({'names':['name','age','weight'],'formats':['S30','i','f']},align=True) ##还可包含多个元祖的列表来描述结构的类型\n",
    "a=np.array([(\"zhang\",32,37.5),(\"wang\",24,65.2)],dtype=persontype)"
   ]
  },
  {
   "cell_type": "code",
   "execution_count": 6,
   "metadata": {},
   "outputs": [
    {
     "data": {
      "text/plain": [
       "array([(b'zhang', 32, 37.5), (b'wang', 24, 65.2)],\n",
       "      dtype={'names':['name','age','weight'], 'formats':['S30','<i4','<f4'], 'offsets':[0,32,36], 'itemsize':40, 'aligned':True})"
      ]
     },
     "execution_count": 6,
     "metadata": {},
     "output_type": "execute_result"
    }
   ],
   "source": [
    "a"
   ]
  },
  {
   "cell_type": "code",
   "execution_count": 7,
   "metadata": {},
   "outputs": [
    {
     "data": {
      "text/plain": [
       "dtype({'names':['name','age','weight'], 'formats':['S30','<i4','<f4'], 'offsets':[0,32,36], 'itemsize':40}, align=True)"
      ]
     },
     "execution_count": 7,
     "metadata": {},
     "output_type": "execute_result"
    }
   ],
   "source": [
    "a.dtype"
   ]
  },
  {
   "cell_type": "markdown",
   "metadata": {},
   "source": [
    "dtype: np.dtype({'names':['name','age','weight'],'formats':['S30','i','f']},align=True) \n",
    "\n",
    "names：定义每个字段的名称\n",
    "\n",
    "formats:定义每个字段的类型   S30:长度为30个字节的字符串类型，  'i':32位的整数类型，相当于np.int32   'f':np.float32"
   ]
  },
  {
   "cell_type": "code",
   "execution_count": 9,
   "metadata": {},
   "outputs": [
    {
     "name": "stdout",
     "output_type": "stream",
     "text": [
      "(b'zhang', 32, 37.5)\n"
     ]
    }
   ],
   "source": [
    "print(a[0])############ b前缀代表的就是bytes....."
   ]
  },
  {
   "cell_type": "code",
   "execution_count": 11,
   "metadata": {},
   "outputs": [
    {
     "data": {
      "text/plain": [
       "b'LI'"
      ]
     },
     "execution_count": 11,
     "metadata": {},
     "output_type": "execute_result"
    }
   ],
   "source": [
    "c=a[1]\n",
    "c[\"name\"]=\"LI\"\n",
    "a[1][\"name\"]         ############a[1]是一个结构元素，他和数组a共享内存数据，因此可以通过修改他的字段来改变原始数组中的元素的字段"
   ]
  },
  {
   "cell_type": "markdown",
   "metadata": {},
   "source": [
    "a[1]是一个结构元素，他和数组a共享内存数据，因此可以通过修改他的字段来改变原始数组中的元素的字段\n",
    "\n",
    "tostring() toflir():可将数组a以二进制的形式转换成字符串或者写入文件"
   ]
  },
  {
   "cell_type": "markdown",
   "metadata": {},
   "source": [
    "# 内存结构"
   ]
  },
  {
   "cell_type": "markdown",
   "metadata": {},
   "source": [
    "strides:strides属性保存每个轴上相邻元素的地址差，即某个轴加1时，数据存储区中的指针所增加的字节数\n",
    "\n",
    "flags:输出各个标志值\n",
    "\n",
    "view():同一块数据区创建不同的dtype对象，也就是用不同的数据类型查看同一段内存中的二进制数据，，，，但共享内存\n",
    "\n",
    "as_strided(a,shape(4,3),strides=(4,4)):a 是一维数组，"
   ]
  },
  {
   "cell_type": "code",
   "execution_count": 13,
   "metadata": {},
   "outputs": [
    {
     "data": {
      "text/plain": [
       "  C_CONTIGUOUS : True\n",
       "  F_CONTIGUOUS : True\n",
       "  OWNDATA : True\n",
       "  WRITEABLE : True\n",
       "  ALIGNED : True\n",
       "  WRITEBACKIFCOPY : False\n",
       "  UPDATEIFCOPY : False"
      ]
     },
     "execution_count": 13,
     "metadata": {},
     "output_type": "execute_result"
    }
   ],
   "source": [
    "a.flags"
   ]
  },
  {
   "cell_type": "code",
   "execution_count": null,
   "metadata": {},
   "outputs": [],
   "source": []
  }
 ],
 "metadata": {
  "kernelspec": {
   "display_name": "Python 3",
   "language": "python",
   "name": "python3"
  },
  "language_info": {
   "codemirror_mode": {
    "name": "ipython",
    "version": 3
   },
   "file_extension": ".py",
   "mimetype": "text/x-python",
   "name": "python",
   "nbconvert_exporter": "python",
   "pygments_lexer": "ipython3",
   "version": "3.6.4"
  }
 },
 "nbformat": 4,
 "nbformat_minor": 2
}
